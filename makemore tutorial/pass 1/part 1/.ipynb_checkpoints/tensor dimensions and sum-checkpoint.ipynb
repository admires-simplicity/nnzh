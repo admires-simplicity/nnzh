{
 "cells": [
  {
   "cell_type": "code",
   "execution_count": 2,
   "id": "6e6f7620-9232-49a9-b76e-9054e5a3c652",
   "metadata": {},
   "outputs": [],
   "source": [
    "import torch"
   ]
  },
  {
   "cell_type": "code",
   "execution_count": 5,
   "id": "ef0d4daf-d5bb-4b4a-83a3-fea73adc893a",
   "metadata": {},
   "outputs": [
    {
     "data": {
      "text/plain": [
       "tensor([[1, 2, 3],\n",
       "        [4, 5, 6],\n",
       "        [7, 8, 9]])"
      ]
     },
     "execution_count": 5,
     "metadata": {},
     "output_type": "execute_result"
    }
   ],
   "source": [
    "t = torch.tensor([[1, 2, 3], [4, 5, 6], [7, 8, 9]])\n",
    "t"
   ]
  },
  {
   "cell_type": "code",
   "execution_count": 8,
   "id": "faefb37b-2b6e-4285-8335-acd236c7c931",
   "metadata": {},
   "outputs": [
    {
     "data": {
      "text/plain": [
       "2"
      ]
     },
     "execution_count": 8,
     "metadata": {},
     "output_type": "execute_result"
    }
   ],
   "source": [
    "t.dim()"
   ]
  },
  {
   "cell_type": "code",
   "execution_count": 9,
   "id": "ea336f8d-0c8b-46f5-89bc-6f359051304f",
   "metadata": {},
   "outputs": [
    {
     "data": {
      "text/plain": [
       "tensor([12, 15, 18])"
      ]
     },
     "execution_count": 9,
     "metadata": {},
     "output_type": "execute_result"
    }
   ],
   "source": [
    "t.sum(0)"
   ]
  },
  {
   "cell_type": "code",
   "execution_count": 11,
   "id": "c1cf38de-8e92-48ad-95e6-5c8b071a48d0",
   "metadata": {},
   "outputs": [
    {
     "data": {
      "text/plain": [
       "tensor([ 6, 15, 24])"
      ]
     },
     "execution_count": 11,
     "metadata": {},
     "output_type": "execute_result"
    }
   ],
   "source": [
    "t.sum(1)"
   ]
  },
  {
   "cell_type": "code",
   "execution_count": 12,
   "id": "a6c966e7-79a2-4384-acdc-fa2624fdd842",
   "metadata": {},
   "outputs": [
    {
     "data": {
      "text/plain": [
       "tensor([[[ 1,  2,  3],\n",
       "         [ 4,  5,  6],\n",
       "         [ 7,  8,  9]],\n",
       "\n",
       "        [[10, 11, 12],\n",
       "         [13, 14, 15],\n",
       "         [16, 17, 18]],\n",
       "\n",
       "        [[19, 20, 21],\n",
       "         [22, 23, 24],\n",
       "         [25, 26, 27]]])"
      ]
     },
     "execution_count": 12,
     "metadata": {},
     "output_type": "execute_result"
    }
   ],
   "source": [
    "s = torch.tensor([[[1, 2, 3], [4, 5, 6], [7, 8, 9]], [[10, 11, 12], [13, 14, 15], [16, 17, 18]], [[19, 20, 21], [22, 23, 24], [25, 26, 27]]])\n",
    "s"
   ]
  },
  {
   "cell_type": "code",
   "execution_count": 14,
   "id": "24338343-948f-4f88-848f-0e6a839443fb",
   "metadata": {},
   "outputs": [
    {
     "data": {
      "text/plain": [
       "tensor([[30, 33, 36],\n",
       "        [39, 42, 45],\n",
       "        [48, 51, 54]])"
      ]
     },
     "execution_count": 14,
     "metadata": {},
     "output_type": "execute_result"
    }
   ],
   "source": [
    "s.sum(0)"
   ]
  },
  {
   "cell_type": "code",
   "execution_count": 15,
   "id": "224f4486-ddf1-4d1b-9794-f410bbe3c21b",
   "metadata": {},
   "outputs": [
    {
     "data": {
      "text/plain": [
       "tensor([[12, 15, 18],\n",
       "        [39, 42, 45],\n",
       "        [66, 69, 72]])"
      ]
     },
     "execution_count": 15,
     "metadata": {},
     "output_type": "execute_result"
    }
   ],
   "source": [
    "s.sum(1)"
   ]
  },
  {
   "cell_type": "code",
   "execution_count": 16,
   "id": "ce13636b-fd96-4e05-a35b-ac9d32c00267",
   "metadata": {},
   "outputs": [
    {
     "data": {
      "text/plain": [
       "tensor([[ 6, 15, 24],\n",
       "        [33, 42, 51],\n",
       "        [60, 69, 78]])"
      ]
     },
     "execution_count": 16,
     "metadata": {},
     "output_type": "execute_result"
    }
   ],
   "source": [
    "s.sum(2)"
   ]
  },
  {
   "cell_type": "code",
   "execution_count": 22,
   "id": "937f04c9-c4a0-4c11-8aa8-eb9f95b6bfe6",
   "metadata": {},
   "outputs": [
    {
     "data": {
      "text/plain": [
       "tensor([[1, 2, 3],\n",
       "        [4, 5, 6],\n",
       "        [7, 8, 9]])"
      ]
     },
     "execution_count": 22,
     "metadata": {},
     "output_type": "execute_result"
    }
   ],
   "source": [
    "s[0]"
   ]
  },
  {
   "cell_type": "code",
   "execution_count": 21,
   "id": "dc331109-6146-4fb1-9d9f-5f99aba60f81",
   "metadata": {},
   "outputs": [
    {
     "data": {
      "text/plain": [
       "tensor(6)"
      ]
     },
     "execution_count": 21,
     "metadata": {},
     "output_type": "execute_result"
    }
   ],
   "source": [
    "sum = 0\n",
    "for i in range(3):\n",
    "    sum += s[0, 0, i]\n",
    "sum"
   ]
  },
  {
   "cell_type": "code",
   "execution_count": 23,
   "id": "b3222409-73c4-4ceb-b539-d67da54607f8",
   "metadata": {},
   "outputs": [
    {
     "data": {
      "text/plain": [
       "tensor(12)"
      ]
     },
     "execution_count": 23,
     "metadata": {},
     "output_type": "execute_result"
    }
   ],
   "source": [
    "sum = 0\n",
    "for i in range(3):\n",
    "    sum += s[0, i, 0]\n",
    "sum"
   ]
  },
  {
   "cell_type": "code",
   "execution_count": 24,
   "id": "74765058-ae9a-4efb-b96f-24973d89d4e9",
   "metadata": {},
   "outputs": [
    {
     "data": {
      "text/plain": [
       "tensor(30)"
      ]
     },
     "execution_count": 24,
     "metadata": {},
     "output_type": "execute_result"
    }
   ],
   "source": [
    "sum = 0\n",
    "for i in range(3):\n",
    "    sum += s[i, 0, 0]\n",
    "sum"
   ]
  },
  {
   "cell_type": "code",
   "execution_count": 25,
   "id": "4c72395c-2855-4f5b-80e4-5694d8c9bfde",
   "metadata": {},
   "outputs": [
    {
     "data": {
      "text/plain": [
       "tensor([[1, 2, 3],\n",
       "        [4, 5, 6],\n",
       "        [7, 8, 9]])"
      ]
     },
     "execution_count": 25,
     "metadata": {},
     "output_type": "execute_result"
    }
   ],
   "source": [
    "t"
   ]
  },
  {
   "cell_type": "code",
   "execution_count": 33,
   "id": "11e67cef-a29f-4d87-bab6-690b470f247c",
   "metadata": {},
   "outputs": [
    {
     "data": {
      "text/plain": [
       "tensor([12, 15, 18])"
      ]
     },
     "execution_count": 33,
     "metadata": {},
     "output_type": "execute_result"
    }
   ],
   "source": [
    "t.sum(0) # sum over first dimension. first dimension is \"rows\". so we're adding up the n-th element in each row...\n",
    "         #                          i.e. sigma from i=0 to k, t on t[i][0]"
   ]
  },
  {
   "cell_type": "code",
   "execution_count": 35,
   "id": "32c3d4d3-823c-494d-9036-8cb5423e38e1",
   "metadata": {},
   "outputs": [
    {
     "data": {
      "text/plain": [
       "tensor(6)"
      ]
     },
     "execution_count": 35,
     "metadata": {},
     "output_type": "execute_result"
    }
   ],
   "source": [
    "t[0].sum()"
   ]
  },
  {
   "cell_type": "code",
   "execution_count": 34,
   "id": "223486f2-ce59-43a5-b957-754c970aee2c",
   "metadata": {},
   "outputs": [
    {
     "data": {
      "text/plain": [
       "tensor([[12, 15, 18]])"
      ]
     },
     "execution_count": 34,
     "metadata": {},
     "output_type": "execute_result"
    }
   ],
   "source": [
    "t.sum(0, keepdim=True)"
   ]
  },
  {
   "cell_type": "code",
   "execution_count": 30,
   "id": "5abf65ac-b0a6-4f6a-a3ac-b7f7184be3f1",
   "metadata": {},
   "outputs": [
    {
     "data": {
      "text/plain": [
       "tensor([ 6, 15, 24])"
      ]
     },
     "execution_count": 30,
     "metadata": {},
     "output_type": "execute_result"
    }
   ],
   "source": [
    "t.sum(1) # sum over 2nd dimension. 2nd dimension is \"cols\". so we're adding up the n-th element in each col...\n",
    "         #                          i.e. sigma from i=0 to k, t on t[0][i]"
   ]
  },
  {
   "cell_type": "code",
   "execution_count": 32,
   "id": "83f69ed6-f6a6-4425-ab06-2df84bc1b12a",
   "metadata": {},
   "outputs": [
    {
     "data": {
      "text/plain": [
       "tensor([[0., 0., 0., 0.],\n",
       "        [0., 0., 0., 0.],\n",
       "        [0., 0., 0., 0.]])"
      ]
     },
     "execution_count": 32,
     "metadata": {},
     "output_type": "execute_result"
    }
   ],
   "source": [
    "torch.zeros((3, 4))"
   ]
  },
  {
   "cell_type": "code",
   "execution_count": 31,
   "id": "c7d6b5e4-749d-401c-b4f5-c05360952f71",
   "metadata": {},
   "outputs": [
    {
     "data": {
      "text/plain": [
       "tensor([[[0., 0., 0., 0., 0.],\n",
       "         [0., 0., 0., 0., 0.],\n",
       "         [0., 0., 0., 0., 0.],\n",
       "         [0., 0., 0., 0., 0.]],\n",
       "\n",
       "        [[0., 0., 0., 0., 0.],\n",
       "         [0., 0., 0., 0., 0.],\n",
       "         [0., 0., 0., 0., 0.],\n",
       "         [0., 0., 0., 0., 0.]],\n",
       "\n",
       "        [[0., 0., 0., 0., 0.],\n",
       "         [0., 0., 0., 0., 0.],\n",
       "         [0., 0., 0., 0., 0.],\n",
       "         [0., 0., 0., 0., 0.]]])"
      ]
     },
     "execution_count": 31,
     "metadata": {},
     "output_type": "execute_result"
    }
   ],
   "source": [
    "torch.zeros((3, 4, 5))"
   ]
  },
  {
   "cell_type": "code",
   "execution_count": null,
   "id": "8a9401f3-0b08-4ea0-b6f7-25064817112c",
   "metadata": {},
   "outputs": [],
   "source": [
    "# I was confused so I wrote this playground for myself\n",
    "# I thought that the 0th dimension should be the \"highest level\", \n",
    "# e.g. for an n dimensional array, the elements of the n-th dimension are the atomic numbers\n",
    "#      the elements of the n-1th dimension are arrays,\n",
    "#      the elements of the n-2nd dimension are arrays of arrays\n",
    "#      etc.\n",
    "# e.g. for a 2 dimensional array, dim 0 is arrays of arrays, and dim 1 is arrays.\n",
    "# \n",
    "# and so since it's supposed to be \"rows then columns\", I thought on a 2d array, sum over dim 0 should give us\n",
    "# sums of each row, since the rows are first, and sum over dim 1 should be the sums of each column, since the\n",
    "# columns are second.\n",
    "#\n",
    "# however this lead to confusion, since t.sum(0) seemed to be sums of columns and t.sum(1) seemed to be sums of rows.\n",
    "#\n",
    "# After playing around a bit, I realized my understanding of which dimension is which was actually correct, \n",
    "# but the reasoning was faulty.\n",
    "# \n",
    "# Here is the basic reasoning:\n",
    "# since the 0th dim are rows, and the 1th dim are columns, t.sum(0) is the sum over the rows, and t.sum(1) is the sum over the columns\n",
    "#\n",
    "# Here is the misunderstanding of what that means:\n",
    "# since t.sum(0) is the sum over the rows, the first element of t.sum(0) should be the sum of the first row, and the second element\n",
    "# should be the sum of the second row.\n",
    "# \n",
    "# However, this is a misunderstanding, because those elements would be the sums OF the i-th rows, \n",
    "# but we didn't say t.sum(0) was the sum OF the i-th row, but the sum OVER the i-th row!\n",
    "#\n",
    "# So actually the elements of t.sum(0) should be sums OVER the rows. The first element will be the sum of the first element in each row,\n",
    "# the second element will be the sum of the second element in each row, and so on.\n",
    "#\n",
    "# In short, the sums OVER the rows and the sums OF the rows are not the same...\n",
    "#\n",
    "# (I think maybe this is somewhat of an arbitrary semantic distinction? But anyway, this is what those terms mean here...)\n",
    "\n"
   ]
  }
 ],
 "metadata": {
  "kernelspec": {
   "display_name": "Python 3 (ipykernel)",
   "language": "python",
   "name": "python3"
  },
  "language_info": {
   "codemirror_mode": {
    "name": "ipython",
    "version": 3
   },
   "file_extension": ".py",
   "mimetype": "text/x-python",
   "name": "python",
   "nbconvert_exporter": "python",
   "pygments_lexer": "ipython3",
   "version": "3.11.5"
  }
 },
 "nbformat": 4,
 "nbformat_minor": 5
}
