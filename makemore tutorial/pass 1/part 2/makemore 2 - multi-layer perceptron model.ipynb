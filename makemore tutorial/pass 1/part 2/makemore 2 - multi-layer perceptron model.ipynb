{
 "cells": [
  {
   "cell_type": "code",
   "execution_count": 2,
   "id": "552aa5a8-1c05-4ab5-9653-656cb4c89428",
   "metadata": {},
   "outputs": [],
   "source": [
    "# name generation model\n",
    "# based on this paper: https://www.jmlr.org/papers/volume3/bengio03a/bengio03a.pdf"
   ]
  },
  {
   "cell_type": "code",
   "execution_count": 3,
   "id": "f694b08d-9534-4b04-ab57-5ad37b89c24c",
   "metadata": {},
   "outputs": [],
   "source": [
    "import torch\n",
    "import torch.nn.functional as F\n",
    "import matplotlib.pyplot as plt # for making figures\n",
    "%matplotlib inline"
   ]
  },
  {
   "cell_type": "code",
   "execution_count": 4,
   "id": "e918d40a-6dd5-4d61-a6f5-ea7d05a999df",
   "metadata": {},
   "outputs": [
    {
     "data": {
      "text/plain": [
       "['emma', 'olivia', 'ava', 'isabella', 'sophia', 'charlotte', 'mia', 'amelia']"
      ]
     },
     "execution_count": 4,
     "metadata": {},
     "output_type": "execute_result"
    }
   ],
   "source": [
    "# read  in all the words\n",
    "words = open('names.txt', 'r').read().splitlines()\n",
    "words[:8]"
   ]
  },
  {
   "cell_type": "code",
   "execution_count": 5,
   "id": "fe49c448-a633-4076-9353-5d244ea8a0f6",
   "metadata": {},
   "outputs": [
    {
     "data": {
      "text/plain": [
       "32033"
      ]
     },
     "execution_count": 5,
     "metadata": {},
     "output_type": "execute_result"
    }
   ],
   "source": [
    "len(words)"
   ]
  },
  {
   "cell_type": "code",
   "execution_count": 6,
   "id": "97b384bf-c57e-4dce-ae24-6c9f51f7b0f4",
   "metadata": {
    "scrolled": true
   },
   "outputs": [
    {
     "name": "stdout",
     "output_type": "stream",
     "text": [
      "{1: 'a', 2: 'b', 3: 'c', 4: 'd', 5: 'e', 6: 'f', 7: 'g', 8: 'h', 9: 'i', 10: 'j', 11: 'k', 12: 'l', 13: 'm', 14: 'n', 15: 'o', 16: 'p', 17: 'q', 18: 'r', 19: 's', 20: 't', 21: 'u', 22: 'v', 23: 'w', 24: 'x', 25: 'y', 26: 'z', 0: '.'}\n"
     ]
    }
   ],
   "source": [
    "# build the vocabulary of characters and mappings to/from integers\n",
    "chars = sorted(list(set(''.join(words))))\n",
    "stoi = {s:i+1 for i,s in enumerate(chars)}\n",
    "stoi['.'] = 0\n",
    "itos = {i:s for s,i in stoi.items()}\n",
    "print(itos)"
   ]
  },
  {
   "cell_type": "code",
   "execution_count": 7,
   "id": "5004cf44-226d-4c23-a423-280db68ee8cd",
   "metadata": {},
   "outputs": [
    {
     "name": "stdout",
     "output_type": "stream",
     "text": [
      "emma\n",
      "... ---> e\n",
      "..e ---> m\n",
      ".em ---> m\n",
      "emm ---> a\n",
      "mma ---> .\n",
      "olivia\n",
      "... ---> o\n",
      "..o ---> l\n",
      ".ol ---> i\n",
      "oli ---> v\n",
      "liv ---> i\n",
      "ivi ---> a\n",
      "via ---> .\n",
      "ava\n",
      "... ---> a\n",
      "..a ---> v\n",
      ".av ---> a\n",
      "ava ---> .\n",
      "isabella\n",
      "... ---> i\n",
      "..i ---> s\n",
      ".is ---> a\n",
      "isa ---> b\n",
      "sab ---> e\n",
      "abe ---> l\n",
      "bel ---> l\n",
      "ell ---> a\n",
      "lla ---> .\n",
      "sophia\n",
      "... ---> s\n",
      "..s ---> o\n",
      ".so ---> p\n",
      "sop ---> h\n",
      "oph ---> i\n",
      "phi ---> a\n",
      "hia ---> .\n"
     ]
    }
   ],
   "source": [
    "# build the dataset\n",
    "\n",
    "block_size = 3 # context length: how many characters do we take to predict the next one?\n",
    "               # original paper uses a cotext of 3 words\n",
    "X, Y = [], []\n",
    "for w in words[:5]:\n",
    "    print(w)\n",
    "    context = [0] * block_size\n",
    "    for ch in w + '.':\n",
    "        ix = stoi[ch]\n",
    "        X.append(context)\n",
    "        Y.append(ix)\n",
    "        print(''.join(itos[i] for i in context), '--->', itos[ix])\n",
    "        context = context[1:] + [ix] # crop first character and append, rolling window\n",
    "\n",
    "X = torch.tensor(X)\n",
    "Y = torch.tensor(Y)"
   ]
  },
  {
   "cell_type": "code",
   "execution_count": 8,
   "id": "adf87248-14c8-4fc2-ac4e-d46d3c345409",
   "metadata": {},
   "outputs": [
    {
     "data": {
      "text/plain": [
       "(torch.Size([32, 3]), torch.int64, torch.Size([32]), torch.int64)"
      ]
     },
     "execution_count": 8,
     "metadata": {},
     "output_type": "execute_result"
    }
   ],
   "source": [
    "X.shape, X.dtype, Y.shape, Y.dtype"
   ]
  },
  {
   "cell_type": "code",
   "execution_count": 9,
   "id": "a9c3003e-1b6c-40db-a50c-438b6bfd9481",
   "metadata": {},
   "outputs": [
    {
     "data": {
      "text/plain": [
       "tensor([[ 0,  0,  0],\n",
       "        [ 0,  0,  5],\n",
       "        [ 0,  5, 13],\n",
       "        [ 5, 13, 13],\n",
       "        [13, 13,  1],\n",
       "        [ 0,  0,  0],\n",
       "        [ 0,  0, 15],\n",
       "        [ 0, 15, 12],\n",
       "        [15, 12,  9],\n",
       "        [12,  9, 22],\n",
       "        [ 9, 22,  9],\n",
       "        [22,  9,  1],\n",
       "        [ 0,  0,  0],\n",
       "        [ 0,  0,  1],\n",
       "        [ 0,  1, 22],\n",
       "        [ 1, 22,  1],\n",
       "        [ 0,  0,  0],\n",
       "        [ 0,  0,  9],\n",
       "        [ 0,  9, 19],\n",
       "        [ 9, 19,  1],\n",
       "        [19,  1,  2],\n",
       "        [ 1,  2,  5],\n",
       "        [ 2,  5, 12],\n",
       "        [ 5, 12, 12],\n",
       "        [12, 12,  1],\n",
       "        [ 0,  0,  0],\n",
       "        [ 0,  0, 19],\n",
       "        [ 0, 19, 15],\n",
       "        [19, 15, 16],\n",
       "        [15, 16,  8],\n",
       "        [16,  8,  9],\n",
       "        [ 8,  9,  1]])"
      ]
     },
     "execution_count": 9,
     "metadata": {},
     "output_type": "execute_result"
    }
   ],
   "source": [
    "X"
   ]
  },
  {
   "cell_type": "code",
   "execution_count": 10,
   "id": "b9904fee-f22b-4395-8502-074bb204d1d0",
   "metadata": {},
   "outputs": [],
   "source": [
    "# embed input in lower dimensional space\n",
    "# original paper embeds 17,000 words in 30 dimensional space\n",
    "# we have 27 possible input characters. let's try a 2 dimensional space.\n",
    "C = torch.randn((27, 2))"
   ]
  },
  {
   "cell_type": "code",
   "execution_count": 11,
   "id": "aab79473-5ba9-49f4-885d-dce3acfae1ff",
   "metadata": {},
   "outputs": [
    {
     "data": {
      "text/plain": [
       "tensor([[ 0.6529, -0.5013],\n",
       "        [ 0.7260, -1.0445],\n",
       "        [ 1.2410,  0.3941]])"
      ]
     },
     "execution_count": 11,
     "metadata": {},
     "output_type": "execute_result"
    }
   ],
   "source": [
    "C[torch.tensor([5, 6, 7])] # using list or tensor as index instead of number gives us a tensor of the respective values in C"
   ]
  },
  {
   "cell_type": "code",
   "execution_count": 12,
   "id": "6a294cf2-6958-42ed-b7ec-98fb78f11ed9",
   "metadata": {},
   "outputs": [
    {
     "data": {
      "text/plain": [
       "tensor([[[ 1.0715,  0.6954],\n",
       "         [ 1.0715,  0.6954],\n",
       "         [ 1.0715,  0.6954]],\n",
       "\n",
       "        [[ 1.0715,  0.6954],\n",
       "         [ 1.0715,  0.6954],\n",
       "         [ 0.6529, -0.5013]],\n",
       "\n",
       "        [[ 1.0715,  0.6954],\n",
       "         [ 0.6529, -0.5013],\n",
       "         [-1.1747, -0.1716]],\n",
       "\n",
       "        [[ 0.6529, -0.5013],\n",
       "         [-1.1747, -0.1716],\n",
       "         [-1.1747, -0.1716]],\n",
       "\n",
       "        [[-1.1747, -0.1716],\n",
       "         [-1.1747, -0.1716],\n",
       "         [ 0.3782,  0.7977]],\n",
       "\n",
       "        [[ 1.0715,  0.6954],\n",
       "         [ 1.0715,  0.6954],\n",
       "         [ 1.0715,  0.6954]],\n",
       "\n",
       "        [[ 1.0715,  0.6954],\n",
       "         [ 1.0715,  0.6954],\n",
       "         [ 0.2579,  2.1787]],\n",
       "\n",
       "        [[ 1.0715,  0.6954],\n",
       "         [ 0.2579,  2.1787],\n",
       "         [ 2.6669,  0.9808]],\n",
       "\n",
       "        [[ 0.2579,  2.1787],\n",
       "         [ 2.6669,  0.9808],\n",
       "         [ 0.9003, -0.4425]],\n",
       "\n",
       "        [[ 2.6669,  0.9808],\n",
       "         [ 0.9003, -0.4425],\n",
       "         [ 0.8257,  0.4894]],\n",
       "\n",
       "        [[ 0.9003, -0.4425],\n",
       "         [ 0.8257,  0.4894],\n",
       "         [ 0.9003, -0.4425]],\n",
       "\n",
       "        [[ 0.8257,  0.4894],\n",
       "         [ 0.9003, -0.4425],\n",
       "         [ 0.3782,  0.7977]],\n",
       "\n",
       "        [[ 1.0715,  0.6954],\n",
       "         [ 1.0715,  0.6954],\n",
       "         [ 1.0715,  0.6954]],\n",
       "\n",
       "        [[ 1.0715,  0.6954],\n",
       "         [ 1.0715,  0.6954],\n",
       "         [ 0.3782,  0.7977]],\n",
       "\n",
       "        [[ 1.0715,  0.6954],\n",
       "         [ 0.3782,  0.7977],\n",
       "         [ 0.8257,  0.4894]],\n",
       "\n",
       "        [[ 0.3782,  0.7977],\n",
       "         [ 0.8257,  0.4894],\n",
       "         [ 0.3782,  0.7977]],\n",
       "\n",
       "        [[ 1.0715,  0.6954],\n",
       "         [ 1.0715,  0.6954],\n",
       "         [ 1.0715,  0.6954]],\n",
       "\n",
       "        [[ 1.0715,  0.6954],\n",
       "         [ 1.0715,  0.6954],\n",
       "         [ 0.9003, -0.4425]],\n",
       "\n",
       "        [[ 1.0715,  0.6954],\n",
       "         [ 0.9003, -0.4425],\n",
       "         [-0.3051,  0.4799]],\n",
       "\n",
       "        [[ 0.9003, -0.4425],\n",
       "         [-0.3051,  0.4799],\n",
       "         [ 0.3782,  0.7977]],\n",
       "\n",
       "        [[-0.3051,  0.4799],\n",
       "         [ 0.3782,  0.7977],\n",
       "         [ 0.6223, -1.8771]],\n",
       "\n",
       "        [[ 0.3782,  0.7977],\n",
       "         [ 0.6223, -1.8771],\n",
       "         [ 0.6529, -0.5013]],\n",
       "\n",
       "        [[ 0.6223, -1.8771],\n",
       "         [ 0.6529, -0.5013],\n",
       "         [ 2.6669,  0.9808]],\n",
       "\n",
       "        [[ 0.6529, -0.5013],\n",
       "         [ 2.6669,  0.9808],\n",
       "         [ 2.6669,  0.9808]],\n",
       "\n",
       "        [[ 2.6669,  0.9808],\n",
       "         [ 2.6669,  0.9808],\n",
       "         [ 0.3782,  0.7977]],\n",
       "\n",
       "        [[ 1.0715,  0.6954],\n",
       "         [ 1.0715,  0.6954],\n",
       "         [ 1.0715,  0.6954]],\n",
       "\n",
       "        [[ 1.0715,  0.6954],\n",
       "         [ 1.0715,  0.6954],\n",
       "         [-0.3051,  0.4799]],\n",
       "\n",
       "        [[ 1.0715,  0.6954],\n",
       "         [-0.3051,  0.4799],\n",
       "         [ 0.2579,  2.1787]],\n",
       "\n",
       "        [[-0.3051,  0.4799],\n",
       "         [ 0.2579,  2.1787],\n",
       "         [ 0.2501, -1.0460]],\n",
       "\n",
       "        [[ 0.2579,  2.1787],\n",
       "         [ 0.2501, -1.0460],\n",
       "         [ 1.8043, -0.8059]],\n",
       "\n",
       "        [[ 0.2501, -1.0460],\n",
       "         [ 1.8043, -0.8059],\n",
       "         [ 0.9003, -0.4425]],\n",
       "\n",
       "        [[ 1.8043, -0.8059],\n",
       "         [ 0.9003, -0.4425],\n",
       "         [ 0.3782,  0.7977]]])"
      ]
     },
     "execution_count": 12,
     "metadata": {},
     "output_type": "execute_result"
    }
   ],
   "source": [
    "emb = C[X] # we can also index with multidimensional integers\n",
    "emb"
   ]
  },
  {
   "cell_type": "code",
   "execution_count": 13,
   "id": "2fbd16b4-0eca-492f-844c-1184a67e2b92",
   "metadata": {},
   "outputs": [
    {
     "data": {
      "text/plain": [
       "torch.Size([32, 3, 2])"
      ]
     },
     "execution_count": 13,
     "metadata": {},
     "output_type": "execute_result"
    }
   ],
   "source": [
    "emb.shape"
   ]
  },
  {
   "cell_type": "code",
   "execution_count": 14,
   "id": "76af0273-b13a-4991-ac7f-4f86f62fa652",
   "metadata": {},
   "outputs": [],
   "source": [
    "# hidden layer\n",
    "W1 = torch.randn((6, 100)) # weights\n",
    "# 6 x 100 because:\n",
    "# (number of inputs == 6 == embedding dimensions (2) x n-embeddings per input (3))\n",
    "#   x \n",
    "# (number of neurons in this layer == some arbitrary amount of neurons (100))\n",
    "b1 = torch.randn(100) # biases"
   ]
  },
  {
   "cell_type": "code",
   "execution_count": 15,
   "id": "ad715e39-e0bb-4802-8e11-e8bd74fcea65",
   "metadata": {},
   "outputs": [
    {
     "ename": "RuntimeError",
     "evalue": "mat1 and mat2 shapes cannot be multiplied (96x2 and 6x100)",
     "output_type": "error",
     "traceback": [
      "\u001b[0;31m---------------------------------------------------------------------------\u001b[0m",
      "\u001b[0;31mRuntimeError\u001b[0m                              Traceback (most recent call last)",
      "Cell \u001b[0;32mIn[15], line 1\u001b[0m\n\u001b[0;32m----> 1\u001b[0m \u001b[43memb\u001b[49m\u001b[43m \u001b[49m\u001b[38;5;241;43m@\u001b[39;49m\u001b[43m \u001b[49m\u001b[43mW1\u001b[49m \u001b[38;5;241m+\u001b[39m b1 \u001b[38;5;66;03m# what we want to do\u001b[39;00m\n",
      "\u001b[0;31mRuntimeError\u001b[0m: mat1 and mat2 shapes cannot be multiplied (96x2 and 6x100)"
     ]
    }
   ],
   "source": [
    "emb @ W1 + b1 # what we want to do"
   ]
  },
  {
   "cell_type": "code",
   "execution_count": null,
   "id": "9bf27005-cc6d-4d0b-8341-cbb6800957a0",
   "metadata": {},
   "outputs": [],
   "source": [
    "# but it doesn't work because each element in emb has size (3x2) instead of size 6.\n",
    "# we need to smush these together somehow.\n",
    "# there are multiple ways to acheive this depending on exact requirements\n",
    "# we'll use torch.cat"
   ]
  },
  {
   "cell_type": "code",
   "execution_count": null,
   "id": "e4244c02-0362-4a0b-87a2-fe6741ede611",
   "metadata": {},
   "outputs": [],
   "source": [
    "torch.cat([emb[:, 0, :], emb[:, 1, :], emb[:, 2, :]], 1)\n",
    "# this will do it, but it's ugly because it's hard-coded.\n",
    "# what if we wanted to change the dimensions of emb from e.g. (_, 3, _) to (_, M, _) ?"
   ]
  },
  {
   "cell_type": "code",
   "execution_count": null,
   "id": "f8297fa8-0e83-46db-b304-72030fe44e4d",
   "metadata": {},
   "outputs": [],
   "source": [
    "# ans: use torch.unbind\n",
    "#torch.unbind(emb, 1) # == [emb[:, 0, :], emb[:, 1, :], emb[:, 2, :]]\n",
    "torch.cat(torch.unbind(emb, 1), 1)\n",
    "# unfortunately, this is SUPA INEFFICIENT, because torch.cat will copy everything..."
   ]
  },
  {
   "cell_type": "code",
   "execution_count": null,
   "id": "774e0659-255f-4c07-a471-0c1166417e46",
   "metadata": {},
   "outputs": [],
   "source": [
    "# even BETTER + EFFICIENT ans: use tensor.view!\n",
    "# changes how tensor is INDEXED instead of STORED. efficient!\n",
    "# changes storage offset, strides, and shapes\n",
    "emb.view(32, 6)"
   ]
  },
  {
   "cell_type": "code",
   "execution_count": null,
   "id": "e162c283-a869-4ea7-9f80-c76bae5755c0",
   "metadata": {},
   "outputs": [],
   "source": [
    "h = torch.tanh(emb.view(emb.shape[0], 6) @ W1 + b1)\n",
    "# activations of inputs emb (h for \"hidden states\")\n",
    "# could do emb.view(-1, 6) and pytorch would figure out what the first dimension needs to be in order to make the size work\n",
    "h.shape"
   ]
  },
  {
   "cell_type": "code",
   "execution_count": null,
   "id": "ddb4a76e-31d6-4bda-baed-82542573ba08",
   "metadata": {},
   "outputs": [],
   "source": [
    "h"
   ]
  },
  {
   "cell_type": "code",
   "execution_count": null,
   "id": "fefe14e3-9712-433c-990c-44dbc901d8f5",
   "metadata": {},
   "outputs": [],
   "source": [
    "# let's make sure the expression \"emb.view(emb.shape[0], 6) @ W1 + b1\"\n",
    "# is broadcasting correctly"
   ]
  },
  {
   "cell_type": "code",
   "execution_count": null,
   "id": "5c134812-2567-4e1d-a324-ac789d7b2ee9",
   "metadata": {},
   "outputs": [],
   "source": [
    "(emb.view(emb.shape[0], 6) @ W1).shape"
   ]
  },
  {
   "cell_type": "code",
   "execution_count": null,
   "id": "6d2e6050-2795-418d-a55c-5fdd19e33c5b",
   "metadata": {},
   "outputs": [],
   "source": [
    "b1.shape"
   ]
  },
  {
   "cell_type": "code",
   "execution_count": null,
   "id": "76ff1e7b-ca4e-428d-b876-559dc8e240b4",
   "metadata": {},
   "outputs": [],
   "source": [
    "# align on right, make missing dimensions size 1, then copy all dimensions of size 1\n",
    "# 32 100    32 100    32 100\n",
    "#    100 ->  1 100 -> 32 100\n",
    "# so it's correct (note: in case this looks wrong because we know \n",
    "#                        matrix multiplication needs (N, M) x (M, O) dimensions,\n",
    "#                        remember we're not doing a multiplication on these\n",
    "#                        two values, we're doing an addition, so we actually\n",
    "#                        do want identical sizes)"
   ]
  },
  {
   "cell_type": "code",
   "execution_count": null,
   "id": "8512fe1c-42bb-4274-8962-83ca09ec6e90",
   "metadata": {},
   "outputs": [],
   "source": [
    "# final layer\n",
    "W2 = torch.randn((100, 27)) # input size -> 27 characters\n",
    "b2 = torch.randn(27)"
   ]
  },
  {
   "cell_type": "code",
   "execution_count": null,
   "id": "e5428ae0-f5ed-48c5-8b2a-cd5d1805ced4",
   "metadata": {},
   "outputs": [],
   "source": [
    "logits = h @ W2 + b2"
   ]
  },
  {
   "cell_type": "code",
   "execution_count": null,
   "id": "fd1f5f4a-3f12-4fa0-9b08-c6f3c0b298e7",
   "metadata": {},
   "outputs": [],
   "source": [
    "logits.shape"
   ]
  },
  {
   "cell_type": "code",
   "execution_count": null,
   "id": "3a158efa-6a0f-4ba6-a4be-5ffee43f5be8",
   "metadata": {},
   "outputs": [],
   "source": [
    "counts = logits.exp()"
   ]
  },
  {
   "cell_type": "code",
   "execution_count": null,
   "id": "c61aff17-6da2-4c86-8e05-c6129bb05068",
   "metadata": {},
   "outputs": [],
   "source": [
    "prob = counts / counts.sum(1, keepdims=True)"
   ]
  },
  {
   "cell_type": "code",
   "execution_count": null,
   "id": "d79288c9-6da3-4e77-ad83-f60f716986e4",
   "metadata": {},
   "outputs": [],
   "source": [
    "prob.shape"
   ]
  },
  {
   "cell_type": "code",
   "execution_count": null,
   "id": "70f85842-098b-47a0-8fb5-144857217217",
   "metadata": {},
   "outputs": [],
   "source": [
    "prob.sum(1, keepdims=True)"
   ]
  },
  {
   "cell_type": "code",
   "execution_count": null,
   "id": "65748a42-446c-4dec-af52-5fab6b9469eb",
   "metadata": {},
   "outputs": [],
   "source": [
    "prob"
   ]
  },
  {
   "cell_type": "code",
   "execution_count": null,
   "id": "d75948ba-eba6-4ad8-bf6f-4a06dd8ecb96",
   "metadata": {},
   "outputs": [],
   "source": [
    "# let's look at how likely the neural net thought the actual outputs were\n",
    "prob[torch.arange(32), Y]"
   ]
  },
  {
   "cell_type": "code",
   "execution_count": null,
   "id": "88929f87-05db-4e2d-b244-07bdc9f5b2d8",
   "metadata": {},
   "outputs": [],
   "source": [
    "# that's pretty bad, but it's ok because we haven't trained it at all yet"
   ]
  },
  {
   "cell_type": "code",
   "execution_count": null,
   "id": "4385fb57-2617-4559-b50b-8e528fdeafa6",
   "metadata": {},
   "outputs": [],
   "source": [
    "torch.arange(32)"
   ]
  },
  {
   "cell_type": "code",
   "execution_count": null,
   "id": "3de0adc1-d02f-40aa-a312-d46df4338fe4",
   "metadata": {},
   "outputs": [],
   "source": [
    "Y"
   ]
  },
  {
   "cell_type": "code",
   "execution_count": null,
   "id": "22637fa3-d652-4305-924b-f0f4450a9a4c",
   "metadata": {},
   "outputs": [],
   "source": [
    "loss = -prob[torch.arange(32), Y].log().mean()\n",
    "loss"
   ]
  },
  {
   "cell_type": "code",
   "execution_count": null,
   "id": "cc5b4b09-f921-46af-b80d-71b1c1b36f5b",
   "metadata": {},
   "outputs": [],
   "source": [
    "# ----------------------------------------------------------------\n",
    "# TIDIED UP! (more respectable)\n",
    "# ----------------------------------------------------------------"
   ]
  },
  {
   "cell_type": "code",
   "execution_count": null,
   "id": "3103df59-90de-4c88-b710-8965e57948a7",
   "metadata": {},
   "outputs": [],
   "source": [
    "X.shape, Y.shape # dataset"
   ]
  },
  {
   "cell_type": "code",
   "execution_count": null,
   "id": "990babc3-6a5b-4d0f-9f08-ed6e55999a97",
   "metadata": {},
   "outputs": [],
   "source": [
    "g = torch.Generator().manual_seed(2 ** 31 - 1) # for reproducibility\n",
    "C = torch.randn((27, 2), generator=g)\n",
    "# hidden layer\n",
    "W1 = torch.randn((6, 100), generator=g) # weights\n",
    "b1 = torch.randn(100, generator=g) # biases\n",
    "# output layer (right?)\n",
    "W2 = torch.randn((100, 27), generator=g)\n",
    "b2 = torch.randn(27, generator=g)\n",
    "parameters = [C, W1, b1, W2, b2]"
   ]
  },
  {
   "cell_type": "code",
   "execution_count": null,
   "id": "ca7feef2-2a80-48d7-bbaf-06466a058cf1",
   "metadata": {},
   "outputs": [],
   "source": [
    "sum(p.nelement() for p in parameters) # number of parameters in total"
   ]
  },
  {
   "cell_type": "code",
   "execution_count": null,
   "id": "32930ab5-b564-4554-81a5-7ebbbb8185bb",
   "metadata": {},
   "outputs": [],
   "source": [
    "emb = C[X] # [32, 3, 2]\n",
    "h = torch.tanh(emb.view(-1, 6) @ W1 + b1) # (32, 100)\n",
    "logits = h @ W2 + b2 # (32, 27)\n",
    "counts = logits.exp()\n",
    "prob = counts / counts.sum(1, keepdims=True)\n",
    "loss = -prob[torch.arange(32), Y].log().mean()\n",
    "loss"
   ]
  },
  {
   "cell_type": "code",
   "execution_count": null,
   "id": "299a18f9-5db5-45d9-a684-4ba02af2246e",
   "metadata": {},
   "outputs": [],
   "source": [
    "# ----------------------------------------------------------------\n",
    "# TIDIED UP, 2! (even MORE respectable)\n",
    "# ----------------------------------------------------------------"
   ]
  },
  {
   "cell_type": "code",
   "execution_count": null,
   "id": "a3ae2ff8-bb6a-4c55-ab20-09ea56320db9",
   "metadata": {},
   "outputs": [],
   "source": [
    "X.shape, Y.shape # dataset"
   ]
  },
  {
   "cell_type": "code",
   "execution_count": null,
   "id": "6d12bf65-f375-4f22-b939-b86765d43488",
   "metadata": {},
   "outputs": [],
   "source": [
    "g = torch.Generator().manual_seed(2 ** 31 - 1) # for reproducibility\n",
    "C = torch.randn((27, 2), generator=g)\n",
    "# hidden layer\n",
    "W1 = torch.randn((6, 100), generator=g) # weights\n",
    "b1 = torch.randn(100, generator=g) # biases\n",
    "# output layer (right?)\n",
    "W2 = torch.randn((100, 27), generator=g)\n",
    "b2 = torch.randn(27, generator=g)\n",
    "parameters = [C, W1, b1, W2, b2]"
   ]
  },
  {
   "cell_type": "code",
   "execution_count": null,
   "id": "6a22a244-1810-413d-a29b-a4a357b38141",
   "metadata": {},
   "outputs": [],
   "source": [
    "sum(p.nelement() for p in parameters) # number of parameters in total"
   ]
  },
  {
   "cell_type": "code",
   "execution_count": null,
   "id": "159eb64a-8aab-4dbd-b6a9-848de81fb0e6",
   "metadata": {},
   "outputs": [],
   "source": [
    "emb = C[X] # [32, 3, 2]\n",
    "h = torch.tanh(emb.view(-1, 6) @ W1 + b1) # (32, 100)\n",
    "logits = h @ W2 + b2 # (32, 27)\n",
    "loss = F.cross_entropy(logits, Y)\n",
    "loss\n",
    "# andrej explains a bunch of reasons to use F.cross_entropy instead of making your\n",
    "# own loss function\n",
    "# 1. efficiency -- pytorch can skip creating intermediate tensors which waste memory\n",
    "#    and can group operations together or something for more computational\n",
    "#    efficiency ??\n",
    "# 2. backward pass is more efficient because F.cross_entropy knows how to do\n",
    "#    backpropogation better or something ??\n",
    "# 3. better numerical behaviour -- you skip the bug where calling logits.exp() ends\n",
    "#    up giving you floating point infinity"
   ]
  },
  {
   "cell_type": "code",
   "execution_count": null,
   "id": "798aec57-8125-47bd-92dd-8c6c25c6ef5f",
   "metadata": {},
   "outputs": [],
   "source": [
    "# ----------------------------------------------------------------\n",
    "# ITERATION 3, MAKE IT ITERATE! (now we're LEARNING with MACHINES)\n",
    "# ----------------------------------------------------------------"
   ]
  },
  {
   "cell_type": "code",
   "execution_count": null,
   "id": "5f6c396c-61fc-43c9-a470-d8a93cd9499e",
   "metadata": {},
   "outputs": [],
   "source": [
    "X.shape, Y.shape # dataset"
   ]
  },
  {
   "cell_type": "code",
   "execution_count": null,
   "id": "2941b891-68f7-4e24-a4ed-79110a4d181b",
   "metadata": {},
   "outputs": [],
   "source": [
    "g = torch.Generator().manual_seed(2 ** 31 - 1) # for reproducibility\n",
    "C = torch.randn((27, 2), generator=g)\n",
    "# hidden layer\n",
    "W1 = torch.randn((6, 100), generator=g) # weights\n",
    "b1 = torch.randn(100, generator=g) # biases\n",
    "# output layer (right?)\n",
    "W2 = torch.randn((100, 27), generator=g)\n",
    "b2 = torch.randn(27, generator=g)\n",
    "parameters = [C, W1, b1, W2, b2]"
   ]
  },
  {
   "cell_type": "code",
   "execution_count": null,
   "id": "b48f3f67-0b2e-4d31-8160-7033e4b513ed",
   "metadata": {},
   "outputs": [],
   "source": [
    "sum(p.nelement() for p in parameters) # number of parameters in total"
   ]
  },
  {
   "cell_type": "code",
   "execution_count": null,
   "id": "343ebbfb-369c-47ea-9f1e-ebcccf91c90e",
   "metadata": {},
   "outputs": [],
   "source": [
    "for p in parameters:\n",
    "    p.requires_grad = True"
   ]
  },
  {
   "cell_type": "code",
   "execution_count": null,
   "id": "8dbb9b13-391f-4389-bc02-5dd9507b527c",
   "metadata": {},
   "outputs": [],
   "source": [
    "for _ in range(10):\n",
    "    # forward pass\n",
    "    emb = C[X] # [32, 3, 2]\n",
    "    h = torch.tanh(emb.view(-1, 6) @ W1 + b1) # (32, 100)\n",
    "    logits = h @ W2 + b2 # (32, 27)\n",
    "    loss = F.cross_entropy(logits, Y)\n",
    "    print(loss.item())\n",
    "    # backward pass\n",
    "    for p in parameters:\n",
    "        p.grad = None\n",
    "    loss.backward()\n",
    "    # update\n",
    "    for p in parameters:\n",
    "        p.data += -0.1 * p.grad"
   ]
  },
  {
   "cell_type": "code",
   "execution_count": null,
   "id": "148bd446-8dc6-4696-ab55-7cb9ffa70223",
   "metadata": {},
   "outputs": [],
   "source": [
    "# here are the actual highest likelihood predictions\n",
    "logits.max(1)"
   ]
  },
  {
   "cell_type": "code",
   "execution_count": null,
   "id": "f14a5deb",
   "metadata": {},
   "outputs": [],
   "source": [
    "# ----------------------------------------------------------------\n",
    "# iteration 4 -- FULL DATASET TIME!\n",
    "# ----------------------------------------------------------------"
   ]
  },
  {
   "cell_type": "code",
   "execution_count": null,
   "id": "1ed724eb",
   "metadata": {},
   "outputs": [],
   "source": [
    "block_size = 3 # context length: how many characters do we take to predict the next one?\n",
    "               # original paper uses a cotext of 3 words\n",
    "X, Y = [], []\n",
    "for w in words:\n",
    "    #print(w)\n",
    "    context = [0] * block_size\n",
    "    for ch in w + '.':\n",
    "        ix = stoi[ch]\n",
    "        X.append(context)\n",
    "        Y.append(ix)\n",
    "        #print(''.join(itos[i] for i in context), '--->', itos[ix])\n",
    "        context = context[1:] + [ix] # crop first character and append, rolling window\n",
    "\n",
    "X = torch.tensor(X)\n",
    "Y = torch.tensor(Y)"
   ]
  },
  {
   "cell_type": "code",
   "execution_count": null,
   "id": "851abb89",
   "metadata": {},
   "outputs": [],
   "source": [
    "X.shape, X.dtype, Y.shape, Y.dtype"
   ]
  },
  {
   "cell_type": "code",
   "execution_count": null,
   "id": "7e038938",
   "metadata": {},
   "outputs": [],
   "source": [
    "g = torch.Generator().manual_seed(2 ** 31 - 1) # for reproducibility\n",
    "C = torch.randn((27, 2), generator=g)\n",
    "# hidden layer\n",
    "W1 = torch.randn((6, 100), generator=g) # weights\n",
    "b1 = torch.randn(100, generator=g) # biases\n",
    "# output layer (right?)\n",
    "W2 = torch.randn((100, 27), generator=g)\n",
    "b2 = torch.randn(27, generator=g)\n",
    "parameters = [C, W1, b1, W2, b2]"
   ]
  },
  {
   "cell_type": "code",
   "execution_count": null,
   "id": "c79e410d",
   "metadata": {},
   "outputs": [],
   "source": [
    "sum(p.nelement() for p in parameters) # number of parameters in total"
   ]
  },
  {
   "cell_type": "code",
   "execution_count": null,
   "id": "73b845f9",
   "metadata": {},
   "outputs": [],
   "source": [
    "for p in parameters:\n",
    "    p.requires_grad = True"
   ]
  },
  {
   "cell_type": "code",
   "execution_count": null,
   "id": "5cdb6435",
   "metadata": {},
   "outputs": [],
   "source": [
    "for _ in range(1000):   \n",
    "    # forward pass\n",
    "    #emb = C[X] # [32, 3, 2]\n",
    "    # this works but is slow. let's use random subsets of the data to train instead in order to have faster\n",
    "    # training cycles\n",
    "    \n",
    "    ix = torch.randint(0, X.shape[0], (32,))\n",
    "    emb = C[X[ix]]\n",
    "    \n",
    "    h = torch.tanh(emb.view(-1, 6) @ W1 + b1) # (32, 100)\n",
    "    logits = h @ W2 + b2 # (32, 27)\n",
    "    loss = F.cross_entropy(logits, Y[ix]) # ALSO INDEXING INTO BATCH HERE\n",
    "    print(loss.item())\n",
    "    # backward pass\n",
    "    for p in parameters:\n",
    "        p.grad = None\n",
    "    loss.backward()\n",
    "    # update\n",
    "    for p in parameters:\n",
    "        p.data += -0.1 * p.grad\n",
    "        \n"
   ]
  },
  {
   "cell_type": "code",
   "execution_count": null,
   "id": "e589f785",
   "metadata": {},
   "outputs": [],
   "source": [
    "# example mini batch\n",
    "torch.randint(0, X.shape[0], (32,))"
   ]
  },
  {
   "cell_type": "code",
   "execution_count": null,
   "id": "7ff20e2a",
   "metadata": {},
   "outputs": [],
   "source": [
    "# let's check the loss on all the examples\n",
    "emb = C[X]    \n",
    "h = torch.tanh(emb.view(-1, 6) @ W1 + b1) # (32, 100)\n",
    "logits = h @ W2 + b2 # (32, 27)\n",
    "loss = F.cross_entropy(logits, Y)\n",
    "loss\n"
   ]
  },
  {
   "cell_type": "code",
   "execution_count": null,
   "id": "e134fcc1",
   "metadata": {},
   "outputs": [],
   "source": [
    "# ----------------------------------------------------------------\n",
    "# iteration 5\n",
    "# ----------------------------------------------------------------"
   ]
  },
  {
   "cell_type": "code",
   "execution_count": null,
   "id": "ba1ebe45",
   "metadata": {},
   "outputs": [],
   "source": [
    "# now let's learn how to LEARN a good learning rate"
   ]
  },
  {
   "cell_type": "code",
   "execution_count": null,
   "id": "9353f1f7",
   "metadata": {},
   "outputs": [],
   "source": [
    "X.shape, X.dtype, Y.shape, Y.dtype"
   ]
  },
  {
   "cell_type": "code",
   "execution_count": null,
   "id": "0ad8973c",
   "metadata": {},
   "outputs": [],
   "source": [
    "g = torch.Generator().manual_seed(2 ** 31 - 1) # for reproducibility\n",
    "C = torch.randn((27, 2), generator=g)\n",
    "# hidden layer\n",
    "W1 = torch.randn((6, 100), generator=g) # weights\n",
    "b1 = torch.randn(100, generator=g) # biases\n",
    "# output layer (right?)\n",
    "W2 = torch.randn((100, 27), generator=g)\n",
    "b2 = torch.randn(27, generator=g)\n",
    "parameters = [C, W1, b1, W2, b2]"
   ]
  },
  {
   "cell_type": "code",
   "execution_count": null,
   "id": "5088c45c",
   "metadata": {},
   "outputs": [],
   "source": [
    "sum(p.nelement() for p in parameters) # number of parameters in total"
   ]
  },
  {
   "cell_type": "code",
   "execution_count": null,
   "id": "7a03bb6b",
   "metadata": {},
   "outputs": [],
   "source": [
    "for p in parameters:\n",
    "    p.requires_grad = True"
   ]
  },
  {
   "cell_type": "code",
   "execution_count": null,
   "id": "4cc4d807",
   "metadata": {},
   "outputs": [],
   "source": [
    "lre = torch.linspace(-3, 0, 1000) # lre -- learning rate exponents\n",
    "lrs = 10**lre\n",
    "lrs"
   ]
  },
  {
   "cell_type": "code",
   "execution_count": null,
   "id": "f966d2a2",
   "metadata": {},
   "outputs": [],
   "source": [
    "lri = []\n",
    "lossi = []\n",
    "\n",
    "for i in range(1000):   \n",
    "\n",
    "    #minibatch\n",
    "    ix = torch.randint(0, X.shape[0], (32,))\n",
    "\n",
    "    # forward pass    \n",
    "    emb = C[X[ix]]\n",
    "    \n",
    "    h = torch.tanh(emb.view(-1, 6) @ W1 + b1) # (32, 100)\n",
    "    logits = h @ W2 + b2 # (32, 27)\n",
    "    loss = F.cross_entropy(logits, Y[ix]) # ALSO INDEXING INTO BATCH HERE\n",
    "    print(loss.item())\n",
    "    \n",
    "    # backward pass\n",
    "    for p in parameters:\n",
    "        p.grad = None\n",
    "    loss.backward()\n",
    "    \n",
    "    # update\n",
    "    lr = lrs[i]\n",
    "    for p in parameters:\n",
    "        p.data += -lr * p.grad\n",
    "        \n",
    "    # track learning rate stats\n",
    "    lri.append(lre[i])\n",
    "    lossi.append(loss.item())\n"
   ]
  },
  {
   "cell_type": "code",
   "execution_count": null,
   "id": "0d80d637",
   "metadata": {},
   "outputs": [],
   "source": [
    "plt.plot(lri, lossi)"
   ]
  },
  {
   "cell_type": "code",
   "execution_count": null,
   "id": "91bfc133",
   "metadata": {},
   "outputs": [],
   "source": [
    "# so 10 ** -1.0 or 0.1 is a pretty good learning rate\n",
    "# ... why exactly??"
   ]
  },
  {
   "cell_type": "code",
   "execution_count": null,
   "id": "8ef99f41",
   "metadata": {},
   "outputs": [],
   "source": [
    "# let's check the loss on all the examples\n",
    "emb = C[X]    \n",
    "h = torch.tanh(emb.view(-1, 6) @ W1 + b1) # (32, 100)\n",
    "logits = h @ W2 + b2 # (32, 27)\n",
    "loss = F.cross_entropy(logits, Y)\n",
    "loss"
   ]
  },
  {
   "cell_type": "code",
   "execution_count": null,
   "id": "8481c1d7",
   "metadata": {},
   "outputs": [],
   "source": [
    "# ----------------------------------------------------------------\n",
    "# iteration 6\n",
    "# ----------------------------------------------------------------"
   ]
  },
  {
   "cell_type": "code",
   "execution_count": 16,
   "id": "9f02abb7",
   "metadata": {},
   "outputs": [],
   "source": [
    "g = torch.Generator().manual_seed(2 ** 31 - 1) # for reproducibility\n",
    "C = torch.randn((27, 2), generator=g)\n",
    "# hidden layer\n",
    "W1 = torch.randn((6, 100), generator=g) # weights\n",
    "b1 = torch.randn(100, generator=g) # biases\n",
    "# output layer (right?)\n",
    "W2 = torch.randn((100, 27), generator=g)\n",
    "b2 = torch.randn(27, generator=g)\n",
    "parameters = [C, W1, b1, W2, b2]\n",
    "\n",
    "for p in parameters:\n",
    "    p.requires_grad = True"
   ]
  },
  {
   "cell_type": "code",
   "execution_count": 17,
   "id": "2c2fc8b7",
   "metadata": {},
   "outputs": [
    {
     "name": "stdout",
     "output_type": "stream",
     "text": [
      "0.24192525446414948\n"
     ]
    }
   ],
   "source": [
    "for _ in range(1000):   \n",
    "\n",
    "    #minibatch\n",
    "    ix = torch.randint(0, X.shape[0], (32,))\n",
    "\n",
    "    # forward pass    \n",
    "    emb = C[X[ix]]\n",
    "    \n",
    "    h = torch.tanh(emb.view(-1, 6) @ W1 + b1) # (32, 100)\n",
    "    logits = h @ W2 + b2 # (32, 27)\n",
    "    loss = F.cross_entropy(logits, Y[ix]) # ALSO INDEXING INTO BATCH HERE\n",
    "    #print(loss.item())\n",
    "    \n",
    "    # backward pass\n",
    "    for p in parameters:\n",
    "        p.grad = None\n",
    "    loss.backward()\n",
    "    \n",
    "    # update\n",
    "    lr = 0.01\n",
    "    for p in parameters:\n",
    "        p.data += -lr * p.grad\n",
    "\n",
    "print(loss.item())"
   ]
  },
  {
   "cell_type": "code",
   "execution_count": 18,
   "id": "728eaed3",
   "metadata": {},
   "outputs": [],
   "source": [
    "# after doing a lot of iterations at a certain learning rate, \"people like to\" do\n",
    "# what's called learning rate decay, i.e. lowering learning rate e.g. by a factor of 10"
   ]
  },
  {
   "cell_type": "code",
   "execution_count": 19,
   "id": "8d2f6c7f",
   "metadata": {},
   "outputs": [
    {
     "data": {
      "text/plain": [
       "tensor(0.3218, grad_fn=<NllLossBackward0>)"
      ]
     },
     "execution_count": 19,
     "metadata": {},
     "output_type": "execute_result"
    }
   ],
   "source": [
    "# let's check the loss on all the examples\n",
    "emb = C[X]    \n",
    "h = torch.tanh(emb.view(-1, 6) @ W1 + b1) # (32, 100)\n",
    "logits = h @ W2 + b2 # (32, 27)\n",
    "loss = F.cross_entropy(logits, Y)\n",
    "loss"
   ]
  },
  {
   "cell_type": "code",
   "execution_count": 20,
   "id": "1ef05b3b",
   "metadata": {},
   "outputs": [],
   "source": [
    "# this looks good, because we got a much lower loss (2.28 compared to 2.45 (!))\n",
    "# however when we use increasingly complex models there becomes a greater danger of overfitting\n",
    "# therefore we should split the data into multiple batches:\n",
    "# 1. training split      80% -- to optimize parameters of the model\n",
    "# 2. dev/validate split  10% -- to optimize hyperparameters (e.g. size of hidden layer, size of embedding, etc.)\n",
    "# 3. test split          10% -- to evaluate performance at the very end (to avoid overfitting)\n",
    "# (roughly)"
   ]
  },
  {
   "cell_type": "code",
   "execution_count": 21,
   "id": "9bb0781e",
   "metadata": {},
   "outputs": [],
   "source": [
    "# ----------------------------------------------------------------\n",
    "# iteration 6 -- TRAIN/TEST SPLIT (OH YEAH, TITLES ARE BACK!)\n",
    "# ----------------------------------------------------------------"
   ]
  },
  {
   "cell_type": "code",
   "execution_count": 22,
   "id": "75f46ab9",
   "metadata": {},
   "outputs": [
    {
     "name": "stdout",
     "output_type": "stream",
     "text": [
      "torch.Size([182625, 3]) torch.Size([182625])\n",
      "torch.Size([22655, 3]) torch.Size([22655])\n",
      "torch.Size([22866, 3]) torch.Size([22866])\n"
     ]
    }
   ],
   "source": [
    "def build_dataset(words):\n",
    "    block_size = 3 # context length: how many characters do we take to predict the next one?\n",
    "               # original paper uses a cotext of 3 words\n",
    "    X, Y = [], []\n",
    "    for w in words:\n",
    "        context = [0] * block_size\n",
    "        for ch in w + '.':\n",
    "            ix = stoi[ch]\n",
    "            X.append(context)\n",
    "            Y.append(ix)\n",
    "            context = context[1:] + [ix] # crop first character and append, rolling window\n",
    "\n",
    "    X = torch.tensor(X)\n",
    "    Y = torch.tensor(Y)\n",
    "    print(X.shape, Y.shape)\n",
    "    return X, Y\n",
    "\n",
    "import random\n",
    "random.seed(42)\n",
    "random.shuffle(words)\n",
    "n1 = int(0.8*len(words))\n",
    "n2 = int(0.9*len(words))\n",
    "\n",
    "Xtr, Ytr = build_dataset(words[:n1])\n",
    "Xdev, Ydev = build_dataset(words[n1:n2])\n",
    "Xte, Yte = build_dataset(words[n2:])"
   ]
  },
  {
   "cell_type": "code",
   "execution_count": 23,
   "id": "8f2fdb13",
   "metadata": {},
   "outputs": [
    {
     "data": {
      "text/plain": [
       "(torch.Size([182625, 3]), torch.int64, torch.Size([182625]), torch.int64)"
      ]
     },
     "execution_count": 23,
     "metadata": {},
     "output_type": "execute_result"
    }
   ],
   "source": [
    "Xtr.shape, Xtr.dtype, Ytr.shape, Ytr.dtype   # new dataset attributes"
   ]
  },
  {
   "cell_type": "code",
   "execution_count": 24,
   "id": "9d6f08e8",
   "metadata": {},
   "outputs": [],
   "source": [
    "g = torch.Generator().manual_seed(2 ** 31 - 1) # for reproducibility\n",
    "C = torch.randn((27, 2), generator=g)\n",
    "# hidden layer\n",
    "W1 = torch.randn((6, 100), generator=g) # weights\n",
    "b1 = torch.randn(100, generator=g) # biases\n",
    "# output layer (right?)\n",
    "W2 = torch.randn((100, 27), generator=g)\n",
    "b2 = torch.randn(27, generator=g)\n",
    "parameters = [C, W1, b1, W2, b2]\n",
    "\n",
    "for p in parameters:\n",
    "    p.requires_grad = True"
   ]
  },
  {
   "cell_type": "code",
   "execution_count": 25,
   "id": "70b0895c",
   "metadata": {},
   "outputs": [
    {
     "name": "stdout",
     "output_type": "stream",
     "text": [
      "3.031980514526367\n"
     ]
    }
   ],
   "source": [
    "for _ in range(10000):   \n",
    "\n",
    "    #minibatch\n",
    "    ix = torch.randint(0, Xtr.shape[0], (32,))\n",
    "\n",
    "    # forward pass    \n",
    "    emb = C[Xtr[ix]]\n",
    "    \n",
    "    h = torch.tanh(emb.view(-1, 6) @ W1 + b1) # (32, 100)\n",
    "    logits = h @ W2 + b2 # (32, 27)\n",
    "    loss = F.cross_entropy(logits, Ytr[ix]) # ALSO INDEXING INTO BATCH HERE\n",
    "    #print(loss.item())\n",
    "    \n",
    "    # backward pass\n",
    "    for p in parameters:\n",
    "        p.grad = None\n",
    "    loss.backward()\n",
    "    \n",
    "    # update\n",
    "    lr = 0.01\n",
    "    for p in parameters:\n",
    "        p.data += -lr * p.grad\n",
    "\n",
    "print(loss.item ())"
   ]
  },
  {
   "cell_type": "code",
   "execution_count": 26,
   "id": "f5aafc86",
   "metadata": {},
   "outputs": [
    {
     "data": {
      "text/plain": [
       "tensor(2.5639, grad_fn=<NllLossBackward0>)"
      ]
     },
     "execution_count": 26,
     "metadata": {},
     "output_type": "execute_result"
    }
   ],
   "source": [
    "emb = C[Xdev]    \n",
    "h = torch.tanh(emb.view(-1, 6) @ W1 + b1) # (32, 100)\n",
    "logits = h @ W2 + b2 # (32, 27)\n",
    "loss = F.cross_entropy(logits, Ydev)\n",
    "loss"
   ]
  },
  {
   "cell_type": "code",
   "execution_count": 27,
   "id": "29c2fce8",
   "metadata": {},
   "outputs": [
    {
     "data": {
      "text/plain": [
       "tensor(2.5693, grad_fn=<NllLossBackward0>)"
      ]
     },
     "execution_count": 27,
     "metadata": {},
     "output_type": "execute_result"
    }
   ],
   "source": [
    "emb = C[Xtr]    \n",
    "h = torch.tanh(emb.view(-1, 6) @ W1 + b1) # (32, 100)\n",
    "logits = h @ W2 + b2 # (32, 27)\n",
    "loss = F.cross_entropy(logits, Ytr)\n",
    "loss"
   ]
  },
  {
   "cell_type": "code",
   "execution_count": 28,
   "id": "be7d3ed3",
   "metadata": {},
   "outputs": [],
   "source": [
    "# as we see the dev and training loss are both roughly equal.\n",
    "# we're not overfitting.\n",
    "# according to Andrej, we're actually underfitting\n",
    "# so let's BEEF up those parameters!"
   ]
  },
  {
   "cell_type": "code",
   "execution_count": 29,
   "id": "af378008",
   "metadata": {},
   "outputs": [
    {
     "data": {
      "text/plain": [
       "tensor([[ 0.3855, -0.3094],\n",
       "        [ 0.1915, -0.3524],\n",
       "        [ 0.0054, -0.2830],\n",
       "        [-0.0558, -0.3448],\n",
       "        [-0.1479, -0.3297],\n",
       "        [ 0.1020, -0.3132],\n",
       "        [-0.1356, -0.3468],\n",
       "        [ 0.4918,  2.3182],\n",
       "        [-0.1914, -0.2304],\n",
       "        [-0.0098, -0.3318],\n",
       "        [-0.2634, -0.3320],\n",
       "        [-0.1862, -0.3411],\n",
       "        [ 0.3739,  2.1840],\n",
       "        [-0.2378, -0.2958],\n",
       "        [-0.1341, -0.1909],\n",
       "        [ 0.1308, -0.3527],\n",
       "        [ 0.3356,  2.0098],\n",
       "        [-0.3106, -0.5611],\n",
       "        [-0.2049, -0.3302],\n",
       "        [-0.0267, -0.4137],\n",
       "        [-0.1287, -0.4183],\n",
       "        [ 0.5165,  2.2625],\n",
       "        [-0.2649, -0.3766],\n",
       "        [-0.2109, -0.3993],\n",
       "        [-0.1846, -0.2327],\n",
       "        [-0.0642, -0.2249],\n",
       "        [-0.2041, -0.3225]], requires_grad=True)"
      ]
     },
     "execution_count": 29,
     "metadata": {},
     "output_type": "execute_result"
    }
   ],
   "source": [
    "C"
   ]
  },
  {
   "cell_type": "code",
   "execution_count": 30,
   "id": "97b9fcd1",
   "metadata": {},
   "outputs": [],
   "source": [
    "# ----------------------------------------------------------------\n",
    "# iteration 6 -- MORE PARAMETERS\n",
    "# ----------------------------------------------------------------"
   ]
  },
  {
   "cell_type": "code",
   "execution_count": 31,
   "id": "75fd0a1c",
   "metadata": {},
   "outputs": [],
   "source": [
    "g = torch.Generator().manual_seed(2 ** 31 - 1) # for reproducibility\n",
    "C = torch.randn((27, 2), generator=g)\n",
    "# hidden layer\n",
    "W1 = torch.randn((6, 300), generator=g) # weights\n",
    "b1 = torch.randn(300, generator=g) # biases\n",
    "# output layer (right?)\n",
    "W2 = torch.randn((300, 27), generator=g)\n",
    "b2 = torch.randn(27, generator=g)\n",
    "parameters = [C, W1, b1, W2, b2]\n",
    "\n",
    "for p in parameters:\n",
    "    p.requires_grad = True\n",
    "    \n",
    "# easiest way to increase the size of the nerual net is to increase the size of the hidden layer (27,100) -> (27,300)"
   ]
  },
  {
   "cell_type": "code",
   "execution_count": 32,
   "id": "7c974aa1",
   "metadata": {},
   "outputs": [
    {
     "data": {
      "text/plain": [
       "10281"
      ]
     },
     "execution_count": 32,
     "metadata": {},
     "output_type": "execute_result"
    }
   ],
   "source": [
    "sum(p.nelement() for p in parameters) # number of parameters in total"
   ]
  },
  {
   "cell_type": "code",
   "execution_count": 33,
   "id": "815a78a5",
   "metadata": {},
   "outputs": [],
   "source": [
    "#lri = []\n",
    "#lossi = []\n",
    "#stepi = []\n",
    "\n",
    "for i in range(10000):   \n",
    "\n",
    "    #minibatch\n",
    "    ix = torch.randint(0, Xtr.shape[0], (32,))\n",
    "\n",
    "    # forward pass    \n",
    "    emb = C[Xtr[ix]]\n",
    "    \n",
    "    h = torch.tanh(emb.view(-1, 6) @ W1 + b1) # (32, 100)\n",
    "    logits = h @ W2 + b2 # (32, 27)\n",
    "    loss = F.cross_entropy(logits, Ytr[ix]) # ALSO INDEXING INTO BATCH HERE\n",
    "    #print(loss.item())\n",
    "    \n",
    "    # backward pass\n",
    "    for p in parameters:\n",
    "        p.grad = None\n",
    "    loss.backward()\n",
    "    \n",
    "    # update\n",
    "    lr = 0.01\n",
    "    for p in parameters:\n",
    "        p.data += -lr * p.grad\n",
    "        \n",
    "    # track stats\n",
    "    #lri.append(lre[i])\n",
    "    #stepi.append(i)\n",
    "    #lossi.append(loss.item())\n",
    "\n",
    "\n",
    "#print(loss.item())"
   ]
  },
  {
   "cell_type": "code",
   "execution_count": 34,
   "id": "15a845d8",
   "metadata": {},
   "outputs": [
    {
     "data": {
      "text/plain": [
       "tensor(2.5198, grad_fn=<NllLossBackward0>)"
      ]
     },
     "execution_count": 34,
     "metadata": {},
     "output_type": "execute_result"
    }
   ],
   "source": [
    "emb = C[Xdev]    \n",
    "h = torch.tanh(emb.view(-1, 6) @ W1 + b1) # (32, 100)\n",
    "logits = h @ W2 + b2 # (32, 27)\n",
    "loss = F.cross_entropy(logits, Ydev)\n",
    "loss"
   ]
  },
  {
   "cell_type": "code",
   "execution_count": 35,
   "id": "f089aa01",
   "metadata": {},
   "outputs": [
    {
     "data": {
      "text/plain": [
       "tensor(2.5293, grad_fn=<NllLossBackward0>)"
      ]
     },
     "execution_count": 35,
     "metadata": {},
     "output_type": "execute_result"
    }
   ],
   "source": [
    "emb = C[Xtr]    \n",
    "h = torch.tanh(emb.view(-1, 6) @ W1 + b1) # (32, 100)\n",
    "logits = h @ W2 + b2 # (32, 27)\n",
    "loss = F.cross_entropy(logits, Ytr)\n",
    "loss"
   ]
  },
  {
   "cell_type": "code",
   "execution_count": 36,
   "id": "27de6dfd",
   "metadata": {},
   "outputs": [
    {
     "data": {
      "image/png": "[encoded data removed]",
      "text/plain": [
       "<Figure size 800x800 with 1 Axes>"
      ]
     },
     "metadata": {},
     "output_type": "display_data"
    }
   ],
   "source": [
    "plt.figure(figsize=(8,8))\n",
    "plt.scatter(C[:,0].data, C[:,1].data, s=200)\n",
    "for i in range(C.shape[0]):\n",
    "    plt.text(C[i,0].item(), C[i,1].item(), itos[i], ha=\"center\", va=\"center\", color=\"white\")\n",
    "plt.grid('minor')"
   ]
  },
  {
   "cell_type": "code",
   "execution_count": 37,
   "id": "39f90786",
   "metadata": {},
   "outputs": [],
   "source": [
    "# ----------------------------------------------------------------\n",
    "# iteration 7 -- MORE (MORE) PARAMETERS\n",
    "# ----------------------------------------------------------------"
   ]
  },
  {
   "cell_type": "code",
   "execution_count": 38,
   "id": "a929eee9",
   "metadata": {},
   "outputs": [],
   "source": [
    "# this time we're going to increase the size of the embeddings...\n",
    "# (and slightly decrease the size of the hidden layer)\n",
    "\n",
    "g = torch.Generator().manual_seed(2 ** 31 - 1) # for reproducibility\n",
    "C = torch.randn((27, 10), generator=g)\n",
    "# hidden layer\n",
    "W1 = torch.randn((30, 200), generator=g) # weights\n",
    "b1 = torch.randn(200, generator=g) # biases\n",
    "# output layer (right?)\n",
    "W2 = torch.randn((200, 27), generator=g)\n",
    "b2 = torch.randn(27, generator=g)\n",
    "parameters = [C, W1, b1, W2, b2]\n",
    "\n",
    "for p in parameters:\n",
    "    p.requires_grad = True"
   ]
  },
  {
   "cell_type": "code",
   "execution_count": 39,
   "id": "946784ec",
   "metadata": {},
   "outputs": [
    {
     "data": {
      "text/plain": [
       "11897"
      ]
     },
     "execution_count": 39,
     "metadata": {},
     "output_type": "execute_result"
    }
   ],
   "source": [
    "sum(p.nelement() for p in parameters) # number of parameters in total"
   ]
  },
  {
   "cell_type": "code",
   "execution_count": 40,
   "id": "58c45496",
   "metadata": {},
   "outputs": [],
   "source": [
    "#lri = []\n",
    "#lossi = []\n",
    "#stepi = []"
   ]
  },
  {
   "cell_type": "code",
   "execution_count": 109,
   "id": "7fd4aa05",
   "metadata": {},
   "outputs": [
    {
     "name": "stdout",
     "output_type": "stream",
     "text": [
      "0\n"
     ]
    }
   ],
   "source": [
    "for i in range(1000):   \n",
    "\n",
    "    if i % 1000 == 0:\n",
    "        print(i)\n",
    "    \n",
    "    #minibatch\n",
    "    ix = torch.randint(0, Xtr.shape[0], (256,))\n",
    "\n",
    "    # forward pass    \n",
    "    emb = C[Xtr[ix]]\n",
    "    \n",
    "    h = torch.tanh(emb.view(-1, 30) @ W1 + b1) # (32, 100)\n",
    "    logits = h @ W2 + b2 # (32, 27)\n",
    "    loss = F.cross_entropy(logits, Ytr[ix]) # ALSO INDEXING INTO BATCH HERE\n",
    "    #print(loss.item())\n",
    "    \n",
    "    # backward pass\n",
    "    for p in parameters:\n",
    "        p.grad = None\n",
    "    loss.backward()\n",
    "    \n",
    "    # update\n",
    "    lr = 0.01\n",
    "    for p in parameters:\n",
    "        p.data += -lr * p.grad\n",
    "        \n",
    "    # track stats\n",
    "    #lri.append(lre[i])\n",
    "    #stepi.append(i)\n",
    "    #lossi.append(loss.log10().item())\n",
    "\n",
    "\n",
    "#print(loss.item())"
   ]
  },
  {
   "cell_type": "code",
   "execution_count": 105,
   "id": "7f41deff",
   "metadata": {},
   "outputs": [],
   "source": [
    "#plt.plot(stepi, lossi)"
   ]
  },
  {
   "cell_type": "code",
   "execution_count": 110,
   "id": "8df2b413",
   "metadata": {},
   "outputs": [
    {
     "data": {
      "text/plain": [
       "tensor(2.1912, grad_fn=<NllLossBackward0>)"
      ]
     },
     "execution_count": 110,
     "metadata": {},
     "output_type": "execute_result"
    }
   ],
   "source": [
    "emb = C[Xdev]    \n",
    "h = torch.tanh(emb.view(-1, 30) @ W1 + b1) # (32, 100)\n",
    "logits = h @ W2 + b2 # (32, 27)\n",
    "loss = F.cross_entropy(logits, Ydev)\n",
    "loss"
   ]
  },
  {
   "cell_type": "code",
   "execution_count": 111,
   "id": "3c926ad1",
   "metadata": {},
   "outputs": [
    {
     "data": {
      "text/plain": [
       "tensor(2.1667, grad_fn=<NllLossBackward0>)"
      ]
     },
     "execution_count": 111,
     "metadata": {},
     "output_type": "execute_result"
    }
   ],
   "source": [
    "emb = C[Xtr]    \n",
    "h = torch.tanh(emb.view(-1, 30) @ W1 + b1) # (32, 100)\n",
    "logits = h @ W2 + b2 # (32, 27)\n",
    "loss = F.cross_entropy(logits, Ytr)\n",
    "loss"
   ]
  },
  {
   "cell_type": "code",
   "execution_count": 45,
   "id": "00327e1a",
   "metadata": {},
   "outputs": [],
   "source": [
    "# SAMPLING FROM THE MODEL !!"
   ]
  },
  {
   "cell_type": "code",
   "execution_count": 113,
   "id": "3f61ea3e",
   "metadata": {},
   "outputs": [
    {
     "name": "stdout",
     "output_type": "stream",
     "text": [
      "mora.\n",
      "mayanniee.\n",
      "mad.\n",
      "rylle.\n",
      "emmancendraek.\n",
      "adelynnelin.\n",
      "shy.\n",
      "jen.\n",
      "edennestanaraelynn.\n",
      "houra.\n",
      "noshibergihimiest.\n",
      "jair.\n",
      "jenslen.\n",
      "pulfzun.\n",
      "macdariyah.\n",
      "faeha.\n",
      "kaysh.\n",
      "samyah.\n",
      "hal.\n",
      "salynn.\n",
      "juluan.\n",
      "leouren.\n",
      "cre.\n",
      "kaveaisten.\n",
      "adi.\n",
      "fen.\n",
      "oewen.\n",
      "zorie.\n",
      "samuey.\n",
      "con.\n",
      "reon.\n",
      "isa.\n",
      "iri.\n",
      "evon.\n",
      "walla.\n",
      "ortaraszin.\n",
      "desist.\n",
      "alingt.\n",
      "dabilin.\n",
      "aimellakeyanni.\n",
      "sxavin.\n",
      "damariennccayne.\n",
      "aud.\n",
      "aiwe.\n",
      "dah.\n",
      "virley.\n",
      "jayerancoo.\n",
      "grellya.\n",
      "iimarilon.\n",
      "ellah.\n"
     ]
    }
   ],
   "source": [
    "g = torch.Generator().manual_seed(2 ** 31 - 1 + 10)\n",
    "\n",
    "for _ in range(50):\n",
    "    \n",
    "    out = []\n",
    "    context = [0] * block_size\n",
    "    while True:\n",
    "        emb = C[torch.tensor([context])]\n",
    "        h = torch.tanh(emb.view(1, -1) @ W1 + b1)\n",
    "        logits = h @ W2 + b2\n",
    "        probs = F.softmax(logits, dim=1)\n",
    "        ix = torch.multinomial(probs, num_samples=1, generator=g).item()\n",
    "        context = context[1:] + [ix]\n",
    "        out.append(ix)\n",
    "        if ix == 0:\n",
    "            break\n",
    "\n",
    "    print(''.join(itos[i] for i in out))"
   ]
  },
  {
   "cell_type": "code",
   "execution_count": null,
   "id": "30ba07e7-3a3d-4b9e-a01e-c04e56a2beb7",
   "metadata": {},
   "outputs": [],
   "source": [
    "# best test loss from the video is 2.1701\n",
    "# exercise to reader is get a better loss using this model"
   ]
  },
  {
   "cell_type": "code",
   "execution_count": null,
   "id": "53d34461-64d0-45a4-aef2-214151e08c41",
   "metadata": {},
   "outputs": [],
   "source": [
    "# ----------------------------------------------------------------\n",
    "# iter 8\n",
    "# ----------------------------------------------------------------"
   ]
  },
  {
   "cell_type": "code",
   "execution_count": 119,
   "id": "8d776920-278f-4fe0-846d-cee3f3e77c3f",
   "metadata": {},
   "outputs": [],
   "source": [
    "# this time we're going to increase the size of the embeddings...\n",
    "# (and slightly decrease the size of the hidden layer)\n",
    "\n",
    "g = torch.Generator().manual_seed(2 ** 31 - 1) # for reproducibility\n",
    "C = torch.randn((27, 4), generator=g)\n",
    "# hidden layer\n",
    "W1 = torch.randn((12, 300), generator=g) # weights\n",
    "b1 = torch.randn(300, generator=g) # biases\n",
    "# output layer (right?)\n",
    "W2 = torch.randn((300, 27), generator=g)\n",
    "b2 = torch.randn(27, generator=g)\n",
    "parameters = [C, W1, b1, W2, b2]\n",
    "\n",
    "for p in parameters:\n",
    "    p.requires_grad = True"
   ]
  },
  {
   "cell_type": "code",
   "execution_count": 120,
   "id": "3182de6a-f26a-495a-aada-f68be1d69f5a",
   "metadata": {},
   "outputs": [
    {
     "data": {
      "text/plain": [
       "12135"
      ]
     },
     "execution_count": 120,
     "metadata": {},
     "output_type": "execute_result"
    }
   ],
   "source": [
    "sum(p.nelement() for p in parameters) # number of parameters in total"
   ]
  },
  {
   "cell_type": "code",
   "execution_count": 149,
   "id": "55146fa2-e378-40d5-b77a-da1b8b1ecd09",
   "metadata": {},
   "outputs": [
    {
     "name": "stdout",
     "output_type": "stream",
     "text": [
      "0: 2.115422010421753\n",
      "1000: 2.2850892543792725\n",
      "2000: 2.448554515838623\n",
      "3000: 2.2070627212524414\n",
      "4000: 2.0405824184417725\n",
      "5000: 2.063225507736206\n",
      "6000: 2.068718910217285\n",
      "7000: 2.4837722778320312\n",
      "8000: 2.2944014072418213\n",
      "9000: 2.245450973510742\n",
      "10000: 2.367769718170166\n",
      "11000: 2.3223841190338135\n",
      "12000: 2.012387275695801\n",
      "13000: 1.904250144958496\n",
      "14000: 2.2287001609802246\n",
      "15000: 2.007561206817627\n",
      "16000: 2.0154168605804443\n",
      "17000: 2.323148012161255\n",
      "18000: 2.0671329498291016\n",
      "19000: 2.1220552921295166\n",
      "20000: 2.242379665374756\n",
      "21000: 2.3672664165496826\n",
      "22000: 2.0212714672088623\n",
      "23000: 2.203503370285034\n",
      "24000: 2.4236955642700195\n",
      "25000: 1.9961293935775757\n",
      "26000: 2.050748586654663\n",
      "27000: 2.0382094383239746\n",
      "28000: 2.001460313796997\n",
      "29000: 2.073377847671509\n",
      "30000: 2.3961193561553955\n",
      "31000: 2.2380309104919434\n",
      "32000: 2.327364683151245\n",
      "33000: 2.3748645782470703\n",
      "34000: 2.3117423057556152\n",
      "35000: 2.3180580139160156\n",
      "36000: 2.0150034427642822\n",
      "37000: 2.0387368202209473\n",
      "38000: 2.348905086517334\n",
      "39000: 2.130556583404541\n",
      "40000: 2.049065113067627\n",
      "41000: 2.2776763439178467\n",
      "42000: 2.187685012817383\n",
      "43000: 2.3770017623901367\n",
      "44000: 2.0712361335754395\n",
      "45000: 2.2530932426452637\n",
      "46000: 1.825695276260376\n",
      "47000: 2.255354404449463\n",
      "48000: 1.9639002084732056\n",
      "49000: 2.289019823074341\n"
     ]
    }
   ],
   "source": [
    "for i in range(50000):   \n",
    "    \n",
    "    #minibatch\n",
    "    ix = torch.randint(0, Xtr.shape[0], (64,))\n",
    "\n",
    "    # forward pass    \n",
    "    emb = C[Xtr[ix]]\n",
    "    \n",
    "    h = torch.tanh(emb.view(-1, 12) @ W1 + b1) # (32, 100)\n",
    "    logits = h @ W2 + b2 # (32, 27)\n",
    "    loss = F.cross_entropy(logits, Ytr[ix]) # ALSO INDEXING INTO BATCH HERE\n",
    "\n",
    "    if i % 1000 == 0:\n",
    "        print(f'{i}: {loss.item()}')\n",
    "    #print(loss.item())\n",
    "    \n",
    "    # backward pass\n",
    "    for p in parameters:\n",
    "        p.grad = None\n",
    "    loss.backward()\n",
    "    \n",
    "    # update\n",
    "    lr = 0.001\n",
    "    for p in parameters:\n",
    "        p.data += -lr * p.grad\n",
    "        \n",
    "    # track stats\n",
    "    #lri.append(lre[i])\n",
    "    #stepi.append(i)\n",
    "    #lossi.append(loss.log10().item())\n",
    "\n",
    "\n",
    "#print(loss.item())"
   ]
  },
  {
   "cell_type": "code",
   "execution_count": 150,
   "id": "41818cff-f2f9-4029-ae4f-f38f80b3800f",
   "metadata": {},
   "outputs": [
    {
     "data": {
      "text/plain": [
       "tensor(2.2189, grad_fn=<NllLossBackward0>)"
      ]
     },
     "execution_count": 150,
     "metadata": {},
     "output_type": "execute_result"
    }
   ],
   "source": [
    "emb = C[Xdev]    \n",
    "h = torch.tanh(emb.view(-1, 12) @ W1 + b1) # (32, 100)\n",
    "logits = h @ W2 + b2 # (32, 27)\n",
    "loss = F.cross_entropy(logits, Ydev)\n",
    "loss"
   ]
  },
  {
   "cell_type": "code",
   "execution_count": null,
   "id": "7258b3e6-69a5-4909-b710-e47ca513cf85",
   "metadata": {},
   "outputs": [],
   "source": [
    "# best loss I seem to be able to get is 2.2189"
   ]
  },
  {
   "cell_type": "code",
   "execution_count": 151,
   "id": "9f47cf42-d5f6-45fb-b25a-0bd6db2de67e",
   "metadata": {},
   "outputs": [
    {
     "name": "stdout",
     "output_type": "stream",
     "text": [
      "mora.\n",
      "mayanniee.\n",
      "med.\n",
      "ryla.\n",
      "rethrelengrlee.\n",
      "aderydaelin.\n",
      "shyone.\n",
      "leigh.\n",
      "estanar.\n",
      "kayzioh.\n",
      "kamin.\n",
      "shubrrgyni.\n",
      "jest.\n",
      "jair.\n",
      "jelionn.\n",
      "paitoun.\n",
      "mace.\n",
      "ryyah.\n",
      "faeh.\n",
      "yuve.\n",
      "myonnyamihalina.\n",
      "yansun.\n",
      "zakelveuren.\n",
      "cre.\n",
      "kiveaon.\n",
      "marid.\n",
      "jahnise.\n",
      "ban.\n",
      "prick.\n",
      "amuez.\n",
      "con.\n",
      "reon.\n",
      "isa.\n",
      "iri.\n",
      "evondwhlan.\n",
      "ortaraszin.\n",
      "desiah.\n",
      "alingtelvissivia.\n",
      "meliaketarriy.\n",
      "xavin.\n",
      "damaitenickarionaud.\n",
      "aive.\n",
      "dih.\n",
      "virle.\n",
      "ajalena.\n",
      "moiah.\n",
      "rictaviiah.\n",
      "glon.\n",
      "ethayderlon.\n",
      "jairy.\n"
     ]
    }
   ],
   "source": [
    "g = torch.Generator().manual_seed(2 ** 31 - 1 + 10)\n",
    "\n",
    "for _ in range(50):\n",
    "    \n",
    "    out = []\n",
    "    context = [0] * block_size\n",
    "    while True:\n",
    "        emb = C[torch.tensor([context])]\n",
    "        h = torch.tanh(emb.view(1, -1) @ W1 + b1)\n",
    "        logits = h @ W2 + b2\n",
    "        probs = F.softmax(logits, dim=1)\n",
    "        ix = torch.multinomial(probs, num_samples=1, generator=g).item()\n",
    "        context = context[1:] + [ix]\n",
    "        out.append(ix)\n",
    "        if ix == 0:\n",
    "            break\n",
    "\n",
    "    print(''.join(itos[i] for i in out))"
   ]
  },
  {
   "cell_type": "code",
   "execution_count": null,
   "id": "cad71513-729f-4733-a207-2684ba165214",
   "metadata": {},
   "outputs": [],
   "source": [
    "# ----------------------------------------------------------------\n",
    "# iter 8\n",
    "# ----------------------------------------------------------------"
   ]
  },
  {
   "cell_type": "code",
   "execution_count": 152,
   "id": "98d723ba-c962-4244-9096-74efedf46492",
   "metadata": {},
   "outputs": [],
   "source": [
    "# this time we're going to increase the size of the embeddings...\n",
    "# (and slightly decrease the size of the hidden layer)\n",
    "\n",
    "g = torch.Generator().manual_seed(2 ** 31 - 1) # for reproducibility\n",
    "C = torch.randn((27, 10), generator=g)\n",
    "# hidden layer\n",
    "W1 = torch.randn((30, 150), generator=g) # weights\n",
    "b1 = torch.randn(150, generator=g) # biases\n",
    "# output layer (right?)\n",
    "W2 = torch.randn((150, 27), generator=g)\n",
    "b2 = torch.randn(27, generator=g)\n",
    "parameters = [C, W1, b1, W2, b2]\n",
    "\n",
    "for p in parameters:\n",
    "    p.requires_grad = True"
   ]
  },
  {
   "cell_type": "code",
   "execution_count": 153,
   "id": "f24c03ab-106c-42f4-a695-48533603a2a9",
   "metadata": {},
   "outputs": [
    {
     "data": {
      "text/plain": [
       "8997"
      ]
     },
     "execution_count": 153,
     "metadata": {},
     "output_type": "execute_result"
    }
   ],
   "source": [
    "sum(p.nelement() for p in parameters) # number of parameters in total"
   ]
  },
  {
   "cell_type": "code",
   "execution_count": 163,
   "id": "089b69ed-f27a-4f80-9d32-3a65de1dfcc3",
   "metadata": {},
   "outputs": [],
   "source": [
    "#lri = []\n",
    "lossi = []\n",
    "stepi = []"
   ]
  },
  {
   "cell_type": "code",
   "execution_count": 235,
   "id": "197061c6-998a-4d18-9710-19acd2685247",
   "metadata": {},
   "outputs": [
    {
     "name": "stdout",
     "output_type": "stream",
     "text": [
      "0: 2.1193010807037354\n",
      "100: 2.1520023345947266\n",
      "200: 2.204747200012207\n",
      "300: 2.1593122482299805\n",
      "400: 2.093663215637207\n",
      "500: 2.0906312465667725\n",
      "600: 2.178438663482666\n",
      "700: 2.159015417098999\n",
      "800: 2.092186689376831\n",
      "900: 2.1526906490325928\n",
      "1000: 2.0854556560516357\n",
      "1100: 2.232177257537842\n",
      "1200: 2.12353515625\n",
      "1300: 2.157930612564087\n",
      "1400: 2.150251626968384\n",
      "1500: 2.0945663452148438\n",
      "1600: 2.084001064300537\n",
      "1700: 2.0780463218688965\n",
      "1800: 2.2673988342285156\n",
      "1900: 2.1284596920013428\n",
      "2000: 2.131715774536133\n",
      "2100: 2.130709409713745\n",
      "2200: 2.135843276977539\n",
      "2300: 2.095097541809082\n",
      "2400: 2.136087656021118\n",
      "2500: 2.1322505474090576\n",
      "2600: 2.1583902835845947\n",
      "2700: 2.136890172958374\n",
      "2800: 2.1116011142730713\n",
      "2900: 2.1519131660461426\n",
      "3000: 2.2225863933563232\n",
      "3100: 2.1293132305145264\n",
      "3200: 2.215528964996338\n",
      "3300: 2.1937143802642822\n",
      "3400: 2.15860652923584\n",
      "3500: 2.140834331512451\n",
      "3600: 2.1777970790863037\n",
      "3700: 2.1546807289123535\n",
      "3800: 2.159527063369751\n",
      "3900: 2.184126138687134\n",
      "4000: 2.0617079734802246\n",
      "4100: 2.1829538345336914\n",
      "4200: 2.1271140575408936\n",
      "4300: 2.1318204402923584\n",
      "4400: 2.1953141689300537\n",
      "4500: 2.1351218223571777\n",
      "4600: 2.1559019088745117\n",
      "4700: 2.14149808883667\n",
      "4800: 2.2029597759246826\n",
      "4900: 2.0992257595062256\n",
      "5000: 2.1721043586730957\n",
      "5100: 2.1891252994537354\n",
      "5200: 2.136935234069824\n",
      "5300: 2.1436471939086914\n",
      "5400: 2.1006855964660645\n",
      "5500: 2.17746639251709\n",
      "5600: 2.104562282562256\n",
      "5700: 2.215820074081421\n",
      "5800: 2.130066156387329\n",
      "5900: 2.110252618789673\n",
      "6000: 2.1559195518493652\n",
      "6100: 2.142388105392456\n",
      "6200: 2.1800405979156494\n",
      "6300: 2.1207077503204346\n",
      "6400: 2.1771371364593506\n",
      "6500: 2.140667676925659\n",
      "6600: 2.155961036682129\n",
      "6700: 2.2187485694885254\n",
      "6800: 2.1507999897003174\n",
      "6900: 2.20849609375\n",
      "7000: 2.1494908332824707\n",
      "7100: 2.1546823978424072\n",
      "7200: 2.1843268871307373\n",
      "7300: 2.239825487136841\n",
      "7400: 2.065793991088867\n",
      "7500: 2.214393377304077\n",
      "7600: 2.134194850921631\n",
      "7700: 2.1960859298706055\n",
      "7800: 2.136823892593384\n",
      "7900: 2.184112310409546\n",
      "8000: 2.1257753372192383\n",
      "8100: 2.112886667251587\n",
      "8200: 2.1048357486724854\n",
      "8300: 2.157949924468994\n",
      "8400: 2.1280386447906494\n",
      "8500: 2.1093289852142334\n",
      "8600: 2.1142799854278564\n",
      "8700: 2.1735830307006836\n",
      "8800: 2.1424362659454346\n",
      "8900: 2.122025728225708\n",
      "9000: 2.1247918605804443\n",
      "9100: 2.0890908241271973\n",
      "9200: 2.1483700275421143\n",
      "9300: 2.143639087677002\n",
      "9400: 2.1565144062042236\n",
      "9500: 2.1753668785095215\n",
      "9600: 2.156737804412842\n",
      "9700: 2.17470121383667\n",
      "9800: 2.1732282638549805\n",
      "9900: 2.1290717124938965\n"
     ]
    }
   ],
   "source": [
    "for i in range(10000):   \n",
    "    \n",
    "    #minibatch\n",
    "    ix = torch.randint(0, Xtr.shape[0], (1000,))\n",
    "\n",
    "    # forward pass    \n",
    "    emb = C[Xtr[ix]]\n",
    "    \n",
    "    h = torch.tanh(emb.view(-1, 30) @ W1 + b1) # (32, 100)\n",
    "    logits = h @ W2 + b2 # (32, 27)\n",
    "    loss = F.cross_entropy(logits, Ytr[ix]) # ALSO INDEXING INTO BATCH HERE\n",
    "\n",
    "    if i % 100 == 0:\n",
    "        print(f'{i}: {loss.item()}')\n",
    "    #print(loss.item())\n",
    "    \n",
    "    # backward pass\n",
    "    for p in parameters:\n",
    "        p.grad = None\n",
    "    loss.backward()\n",
    "    \n",
    "    # update\n",
    "    lr = 0.1\n",
    "    for p in parameters:\n",
    "        p.data += -lr * p.grad\n",
    "        \n",
    "    # track stats\n",
    "    #lri.append(lre[i])\n",
    "    stepi.append(i)\n",
    "    lossi.append(loss.log10().item())\n",
    "\n",
    "\n",
    "#print(loss.item())"
   ]
  },
  {
   "cell_type": "code",
   "execution_count": 236,
   "id": "37d1c988-6779-4e43-ab01-3a891ce19c1f",
   "metadata": {},
   "outputs": [
    {
     "data": {
      "text/plain": [
       "[<matplotlib.lines.Line2D at 0x7fe78ce2dd90>]"
      ]
     },
     "execution_count": 236,
     "metadata": {},
     "output_type": "execute_result"
    },
    {
     "data": {
      "image/png": "[encoded data removed]",
      "text/plain": [
       "<Figure size 640x480 with 1 Axes>"
      ]
     },
     "metadata": {},
     "output_type": "display_data"
    }
   ],
   "source": [
    "plt.plot(stepi, lossi)"
   ]
  },
  {
   "cell_type": "code",
   "execution_count": 237,
   "id": "af14b538-c312-4583-b079-58f880247ccc",
   "metadata": {},
   "outputs": [
    {
     "data": {
      "text/plain": [
       "tensor(2.1748, grad_fn=<NllLossBackward0>)"
      ]
     },
     "execution_count": 237,
     "metadata": {},
     "output_type": "execute_result"
    }
   ],
   "source": [
    "emb = C[Xdev]    \n",
    "h = torch.tanh(emb.view(-1, 30) @ W1 + b1) # (32, 100)\n",
    "logits = h @ W2 + b2 # (32, 27)\n",
    "loss = F.cross_entropy(logits, Ydev)\n",
    "loss"
   ]
  },
  {
   "cell_type": "code",
   "execution_count": 238,
   "id": "227f7d66-988f-4eb8-ab9b-601a282587d3",
   "metadata": {},
   "outputs": [
    {
     "data": {
      "text/plain": [
       "tensor(2.1448, grad_fn=<NllLossBackward0>)"
      ]
     },
     "execution_count": 238,
     "metadata": {},
     "output_type": "execute_result"
    }
   ],
   "source": [
    "emb = C[Xtr]    \n",
    "h = torch.tanh(emb.view(-1, 30) @ W1 + b1) # (32, 100)\n",
    "logits = h @ W2 + b2 # (32, 27)\n",
    "loss = F.cross_entropy(logits, Ytr)\n",
    "loss"
   ]
  },
  {
   "cell_type": "code",
   "execution_count": null,
   "id": "015fff47-13d9-482f-b9fc-94e7ade805ae",
   "metadata": {},
   "outputs": [],
   "source": [
    "# best loss is 2.14 ??"
   ]
  },
  {
   "cell_type": "code",
   "execution_count": 239,
   "id": "ff936904-b73f-4d2d-b4c7-ac1ab314772f",
   "metadata": {},
   "outputs": [
    {
     "name": "stdout",
     "output_type": "stream",
     "text": [
      "mora.\n",
      "kayah.\n",
      "see.\n",
      "med.\n",
      "rylla.\n",
      "emmruttadrlee.\n",
      "adelynneliah.\n",
      "milopi.\n",
      "eden.\n",
      "estanara.\n",
      "myki.\n",
      "hotalin.\n",
      "sher.\n",
      "roshiriel.\n",
      "kinto.\n",
      "jenslen.\n",
      "parrius.\n",
      "kynder.\n",
      "yadleyel.\n",
      "yume.\n",
      "myskeyla.\n",
      "hal.\n",
      "salyansuf.\n",
      "zakhloe.\n",
      "ren.\n",
      "crevis.\n",
      "jaiel.\n",
      "pordin.\n",
      "kyloe.\n",
      "bayziei.\n",
      "jorettyn.\n",
      "kharlo.\n",
      "jian.\n",
      "iri.\n",
      "evon.\n",
      "walla.\n",
      "ortarashten.\n",
      "goela.\n",
      "alitan.\n",
      "debil.\n",
      "vid.\n",
      "mellanetarriy.\n",
      "xavi.\n",
      "jakelizenickayionald.\n",
      "aive.\n",
      "dihevirley.\n",
      "jayena.\n",
      "moialorictamiia.\n",
      "jolon.\n",
      "ethayderlina.\n"
     ]
    }
   ],
   "source": [
    "g = torch.Generator().manual_seed(2 ** 31 - 1 + 10)\n",
    "\n",
    "for _ in range(50):\n",
    "    \n",
    "    out = []\n",
    "    context = [0] * block_size\n",
    "    while True:\n",
    "        emb = C[torch.tensor([context])]\n",
    "        h = torch.tanh(emb.view(1, -1) @ W1 + b1)\n",
    "        logits = h @ W2 + b2\n",
    "        probs = F.softmax(logits, dim=1)\n",
    "        ix = torch.multinomial(probs, num_samples=1, generator=g).item()\n",
    "        context = context[1:] + [ix]\n",
    "        out.append(ix)\n",
    "        if ix == 0:\n",
    "            break\n",
    "\n",
    "    print(''.join(itos[i] for i in out))"
   ]
  },
  {
   "cell_type": "code",
   "execution_count": null,
   "id": "22426312-4077-400f-8573-89975cd4d36a",
   "metadata": {},
   "outputs": [],
   "source": [
    "# ----------------------------------------------------------------\n",
    "# iter 9 -- let's try more context!!\n",
    "# ----------------------------------------------------------------"
   ]
  },
  {
   "cell_type": "code",
   "execution_count": 402,
   "id": "dc4fda39-744d-4d26-b000-f1249d8e3fa6",
   "metadata": {},
   "outputs": [
    {
     "name": "stdout",
     "output_type": "stream",
     "text": [
      "torch.Size([182456, 8]) torch.Size([182456])\n",
      "torch.Size([22752, 8]) torch.Size([22752])\n",
      "torch.Size([22938, 8]) torch.Size([22938])\n"
     ]
    }
   ],
   "source": [
    "block_size = 8 # context length: how many characters do we take to predict the next one?\n",
    "               # original paper uses a cotext of 3 words\n",
    "\n",
    "def build_dataset(words):\n",
    "    X, Y = [], []\n",
    "    for w in words:\n",
    "        context = [0] * block_size\n",
    "        for ch in w + '.':\n",
    "            ix = stoi[ch]\n",
    "            X.append(context)\n",
    "            Y.append(ix)\n",
    "            context = context[1:] + [ix] # crop first character and append, rolling window\n",
    "\n",
    "    X = torch.tensor(X)\n",
    "    Y = torch.tensor(Y)\n",
    "    print(X.shape, Y.shape)\n",
    "    return X, Y\n",
    "\n",
    "import random\n",
    "random.seed(42)\n",
    "random.shuffle(words)\n",
    "n1 = int(0.8*len(words))\n",
    "n2 = int(0.9*len(words))\n",
    "\n",
    "Xtr, Ytr = build_dataset(words[:n1])\n",
    "Xdev, Ydev = build_dataset(words[n1:n2])\n",
    "Xte, Yte = build_dataset(words[n2:])"
   ]
  },
  {
   "cell_type": "code",
   "execution_count": 403,
   "id": "9b91765e-1880-4ea8-955d-59b605bfe0f2",
   "metadata": {},
   "outputs": [],
   "source": [
    "g = torch.Generator().manual_seed(2 ** 31 - 1) # for reproducibility\n",
    "C = torch.randn((27, 5), generator=g)\n",
    "# hidden layer\n",
    "W1 = torch.randn((40, 100), generator=g) # weights\n",
    "b1 = torch.randn(100, generator=g) # biases\n",
    "# output layer (right?)\n",
    "W2 = torch.randn((100, 27), generator=g)\n",
    "b2 = torch.randn(27, generator=g)\n",
    "parameters = [C, W1, b1, W2, b2]\n",
    "\n",
    "for p in parameters:\n",
    "    p.requires_grad = True"
   ]
  },
  {
   "cell_type": "code",
   "execution_count": 404,
   "id": "2050efe3-a412-42b7-bfd1-28998f903cca",
   "metadata": {},
   "outputs": [
    {
     "data": {
      "text/plain": [
       "6962"
      ]
     },
     "execution_count": 404,
     "metadata": {},
     "output_type": "execute_result"
    }
   ],
   "source": [
    "sum(p.nelement() for p in parameters) # number of parameters in total"
   ]
  },
  {
   "cell_type": "code",
   "execution_count": 436,
   "id": "041193ea-28df-477e-805d-14eb6b43e11b",
   "metadata": {},
   "outputs": [
    {
     "name": "stdout",
     "output_type": "stream",
     "text": [
      "0: 2.3255388736724854\n",
      "100: 2.3185596466064453\n",
      "200: 2.266429901123047\n",
      "300: 2.3607137203216553\n",
      "400: 2.2683298587799072\n",
      "500: 2.322235584259033\n",
      "600: 2.295442819595337\n",
      "700: 2.3104755878448486\n",
      "800: 2.282677173614502\n",
      "900: 2.270017385482788\n",
      "1000: 2.239888906478882\n",
      "1100: 2.3697705268859863\n",
      "1200: 2.2212793827056885\n",
      "1300: 2.32245135307312\n",
      "1400: 2.3299078941345215\n",
      "1500: 2.3041253089904785\n",
      "1600: 2.238553047180176\n",
      "1700: 2.2814693450927734\n",
      "1800: 2.338242530822754\n",
      "1900: 2.2348952293395996\n",
      "2000: 2.286409854888916\n",
      "2100: 2.29797101020813\n",
      "2200: 2.2634520530700684\n",
      "2300: 2.269585371017456\n",
      "2400: 2.31355357170105\n",
      "2500: 2.357513904571533\n",
      "2600: 2.1928603649139404\n",
      "2700: 2.2710089683532715\n",
      "2800: 2.323629140853882\n",
      "2900: 2.2475507259368896\n",
      "3000: 2.2773640155792236\n",
      "3100: 2.2593796253204346\n",
      "3200: 2.3024513721466064\n",
      "3300: 2.258265733718872\n",
      "3400: 2.303119659423828\n",
      "3500: 2.281431198120117\n",
      "3600: 2.326287031173706\n",
      "3700: 2.2870404720306396\n",
      "3800: 2.338315963745117\n",
      "3900: 2.33196759223938\n",
      "4000: 2.252747058868408\n",
      "4100: 2.2524728775024414\n",
      "4200: 2.318753957748413\n",
      "4300: 2.301090955734253\n",
      "4400: 2.307453155517578\n",
      "4500: 2.3356194496154785\n",
      "4600: 2.243673801422119\n",
      "4700: 2.2802722454071045\n",
      "4800: 2.3160204887390137\n",
      "4900: 2.3085203170776367\n",
      "5000: 2.333019733428955\n",
      "5100: 2.3041763305664062\n",
      "5200: 2.308865785598755\n",
      "5300: 2.358410596847534\n",
      "5400: 2.3137757778167725\n",
      "5500: 2.363126277923584\n",
      "5600: 2.2281510829925537\n",
      "5700: 2.3128750324249268\n",
      "5800: 2.264896869659424\n",
      "5900: 2.249565839767456\n",
      "6000: 2.28576922416687\n",
      "6100: 2.2507708072662354\n",
      "6200: 2.3319509029388428\n",
      "6300: 2.176737070083618\n",
      "6400: 2.3218748569488525\n",
      "6500: 2.3374814987182617\n",
      "6600: 2.35123872756958\n",
      "6700: 2.266542434692383\n",
      "6800: 2.3007304668426514\n",
      "6900: 2.3587722778320312\n",
      "7000: 2.3447017669677734\n",
      "7100: 2.316348075866699\n",
      "7200: 2.3259706497192383\n",
      "7300: 2.353896379470825\n",
      "7400: 2.309939384460449\n",
      "7500: 2.2910358905792236\n",
      "7600: 2.2267301082611084\n",
      "7700: 2.2565014362335205\n",
      "7800: 2.2769298553466797\n",
      "7900: 2.3391497135162354\n",
      "8000: 2.3281173706054688\n",
      "8100: 2.3113811016082764\n",
      "8200: 2.3781301975250244\n",
      "8300: 2.3573622703552246\n",
      "8400: 2.2678041458129883\n",
      "8500: 2.277805805206299\n",
      "8600: 2.238140821456909\n",
      "8700: 2.278149366378784\n",
      "8800: 2.2655038833618164\n",
      "8900: 2.306985855102539\n",
      "9000: 2.281338930130005\n",
      "9100: 2.3158414363861084\n",
      "9200: 2.2928080558776855\n",
      "9300: 2.2748398780822754\n",
      "9400: 2.2761101722717285\n",
      "9500: 2.2532095909118652\n",
      "9600: 2.2551681995391846\n",
      "9700: 2.247154951095581\n",
      "9800: 2.2843735218048096\n",
      "9900: 2.2859182357788086\n"
     ]
    }
   ],
   "source": [
    "for i in range(10000):   \n",
    "    \n",
    "    #minibatch\n",
    "    ix = torch.randint(0, Xtr.shape[0], (1000,))\n",
    "\n",
    "    # forward pass    \n",
    "    emb = C[Xtr[ix]]\n",
    "    \n",
    "    h = torch.tanh(emb.view(-1, 40) @ W1 + b1) # (32, 100)\n",
    "    logits = h @ W2 + b2 # (32, 27)\n",
    "    loss = F.cross_entropy(logits, Ytr[ix]) # ALSO INDEXING INTO BATCH HERE\n",
    "\n",
    "    if i % 100 == 0:\n",
    "        print(f'{i}: {loss.item()}')\n",
    "    #print(loss.item())\n",
    "    \n",
    "    # backward pass\n",
    "    for p in parameters:\n",
    "        p.grad = None\n",
    "    loss.backward()\n",
    "    \n",
    "    # update\n",
    "    lr = 0.01\n",
    "    for p in parameters:\n",
    "        p.data += -lr * p.grad\n",
    "        \n",
    "    # track stats\n",
    "    #lri.append(lre[i])\n",
    "    #stepi.append(i)\n",
    "    #lossi.append(loss.log10().item())\n",
    "\n",
    "\n",
    "#print(loss.item())"
   ]
  },
  {
   "cell_type": "code",
   "execution_count": 437,
   "id": "33744457-c0f3-4ea3-978b-5c747014ea33",
   "metadata": {},
   "outputs": [
    {
     "data": {
      "text/plain": [
       "tensor(2.3066, grad_fn=<NllLossBackward0>)"
      ]
     },
     "execution_count": 437,
     "metadata": {},
     "output_type": "execute_result"
    }
   ],
   "source": [
    "emb = C[Xdev]    \n",
    "h = torch.tanh(emb.view(-1, 40) @ W1 + b1) # (32, 100)\n",
    "logits = h @ W2 + b2 # (32, 27)\n",
    "loss = F.cross_entropy(logits, Ydev)\n",
    "loss"
   ]
  },
  {
   "cell_type": "code",
   "execution_count": 438,
   "id": "89e576f6-6195-4aac-a258-f889f441f586",
   "metadata": {},
   "outputs": [
    {
     "name": "stdout",
     "output_type": "stream",
     "text": [
      "mriaalmya.\n",
      "zieel.\n",
      "ndhayah.\n",
      "rethan.\n",
      "ejdrar.\n",
      "cadered.\n",
      "eliileli.\n",
      "jellene.\n",
      "sosoraa.\n",
      "selten.\n",
      "hokea.\n",
      "noshdber.\n",
      "shimies.\n",
      "kinir.\n",
      "jelilan.\n",
      "pucriu.\n",
      "zeyvde.\n",
      "kyleli.\n",
      "ehsylae.\n",
      "myskeyd.\n",
      "ahilina.\n",
      "yansuf.\n",
      "zalel.\n",
      "juren.\n",
      "cutris.\n",
      "jaoen.\n",
      "pordin.\n",
      "kykoe.\n",
      "bhigpein.\n",
      "samuey.\n",
      "chhmreo.\n",
      "miilani.\n",
      "jevondwal.\n",
      "ayleta.\n",
      "shithne.\n",
      "sila.\n",
      "alityn.\n",
      "dabisin.\n",
      "dameel.\n",
      "ketanna.\n",
      "saavin.\n",
      "damacienna.\n",
      "alin.\n",
      "audtii.\n",
      "bryah.\n",
      "vorle.\n",
      "ajalera.\n",
      "moialo.\n",
      "litamii.\n",
      "karlon.\n"
     ]
    }
   ],
   "source": [
    "g = torch.Generator().manual_seed(2 ** 31 - 1 + 10)\n",
    "\n",
    "for _ in range(50):\n",
    "    \n",
    "    out = []\n",
    "    context = [0] * block_size\n",
    "    while True:\n",
    "        emb = C[torch.tensor([context])]\n",
    "        h = torch.tanh(emb.view(1, -1) @ W1 + b1)\n",
    "        logits = h @ W2 + b2\n",
    "        probs = F.softmax(logits, dim=1)\n",
    "        ix = torch.multinomial(probs, num_samples=1, generator=g).item()\n",
    "        context = context[1:] + [ix]\n",
    "        out.append(ix)\n",
    "        if ix == 0:\n",
    "            break\n",
    "\n",
    "    print(''.join(itos[i] for i in out))"
   ]
  },
  {
   "cell_type": "code",
   "execution_count": null,
   "id": "2b90d6e7-5505-43d2-a1cf-c719478f2d69",
   "metadata": {},
   "outputs": [],
   "source": [
    "# ----------------------------------------------------------------\n",
    "# iter 10 -- fat hidden layer\n",
    "# ----------------------------------------------------------------"
   ]
  },
  {
   "cell_type": "code",
   "execution_count": 439,
   "id": "b150c1a4-1057-44d3-8490-cd5c7bc9e437",
   "metadata": {},
   "outputs": [
    {
     "name": "stdout",
     "output_type": "stream",
     "text": [
      "torch.Size([182544, 3]) torch.Size([182544])\n",
      "torch.Size([22740, 3]) torch.Size([22740])\n",
      "torch.Size([22862, 3]) torch.Size([22862])\n"
     ]
    }
   ],
   "source": [
    "block_size = 3 # context length: how many characters do we take to predict the next one?\n",
    "               # original paper uses a cotext of 3 words\n",
    "\n",
    "def build_dataset(words):\n",
    "    X, Y = [], []\n",
    "    for w in words:\n",
    "        context = [0] * block_size\n",
    "        for ch in w + '.':\n",
    "            ix = stoi[ch]\n",
    "            X.append(context)\n",
    "            Y.append(ix)\n",
    "            context = context[1:] + [ix] # crop first character and append, rolling window\n",
    "\n",
    "    X = torch.tensor(X)\n",
    "    Y = torch.tensor(Y)\n",
    "    print(X.shape, Y.shape)\n",
    "    return X, Y\n",
    "\n",
    "import random\n",
    "random.seed(42)\n",
    "random.shuffle(words)\n",
    "n1 = int(0.8*len(words))\n",
    "n2 = int(0.9*len(words))\n",
    "\n",
    "Xtr, Ytr = build_dataset(words[:n1])\n",
    "Xdev, Ydev = build_dataset(words[n1:n2])\n",
    "Xte, Yte = build_dataset(words[n2:])"
   ]
  },
  {
   "cell_type": "code",
   "execution_count": 440,
   "id": "fde11ea5-3f03-4038-a028-f73d2e9508af",
   "metadata": {},
   "outputs": [],
   "source": [
    "g = torch.Generator().manual_seed(2 ** 31 - 1) # for reproducibility\n",
    "C = torch.randn((27, 4), generator=g)\n",
    "# hidden layer\n",
    "W1 = torch.randn((12, 500), generator=g) # weights\n",
    "b1 = torch.randn(500, generator=g) # biases\n",
    "# output layer (right?)\n",
    "W2 = torch.randn((500, 27), generator=g)\n",
    "b2 = torch.randn(27, generator=g)\n",
    "parameters = [C, W1, b1, W2, b2]\n",
    "\n",
    "for p in parameters:\n",
    "    p.requires_grad = True"
   ]
  },
  {
   "cell_type": "code",
   "execution_count": 441,
   "id": "d52b84cd-c87d-4561-8cad-8d9c715dc399",
   "metadata": {},
   "outputs": [
    {
     "data": {
      "text/plain": [
       "20135"
      ]
     },
     "execution_count": 441,
     "metadata": {},
     "output_type": "execute_result"
    }
   ],
   "source": [
    "sum(p.nelement() for p in parameters) # number of parameters in total"
   ]
  },
  {
   "cell_type": "code",
   "execution_count": null,
   "id": "0bd01e45-4323-4fbd-a9dc-6f7a23db645f",
   "metadata": {},
   "outputs": [
    {
     "name": "stdout",
     "output_type": "stream",
     "text": [
      "0: 2.400026798248291\n",
      "1000: 2.516403913497925\n",
      "2000: 2.4230902194976807\n",
      "3000: 2.5435056686401367\n",
      "4000: 2.444976329803467\n",
      "5000: 2.3983139991760254\n",
      "6000: 2.4675819873809814\n",
      "7000: 2.6710329055786133\n",
      "8000: 2.5114474296569824\n",
      "9000: 2.3859541416168213\n",
      "10000: 2.4838268756866455\n",
      "11000: 2.405278205871582\n",
      "12000: 2.4701006412506104\n",
      "13000: 2.357053518295288\n",
      "14000: 2.462113857269287\n",
      "15000: 2.3935656547546387\n",
      "16000: 2.3927245140075684\n",
      "17000: 2.0862677097320557\n",
      "18000: 2.405197858810425\n",
      "19000: 2.271212100982666\n",
      "20000: 2.304227113723755\n",
      "21000: 2.3869893550872803\n",
      "22000: 2.2916066646575928\n",
      "23000: 2.3300557136535645\n",
      "24000: 2.214477777481079\n",
      "25000: 2.469085216522217\n",
      "26000: 2.3047218322753906\n",
      "27000: 2.4863810539245605\n",
      "28000: 2.2919373512268066\n",
      "29000: 2.328839063644409\n",
      "30000: 2.399650812149048\n",
      "31000: 2.2756433486938477\n",
      "32000: 2.3534815311431885\n",
      "33000: 2.1997742652893066\n",
      "34000: 2.411691188812256\n",
      "35000: 2.489468812942505\n",
      "36000: 2.2106142044067383\n",
      "37000: 2.440631151199341\n",
      "38000: 2.2793445587158203\n",
      "39000: 2.172184467315674\n",
      "40000: 2.1857521533966064\n",
      "41000: 2.5087921619415283\n",
      "42000: 2.430079460144043\n",
      "43000: 2.3045313358306885\n",
      "44000: 2.517206907272339\n",
      "45000: 2.6367852687835693\n",
      "46000: 2.3732800483703613\n",
      "47000: 2.329237461090088\n",
      "48000: 2.3509464263916016\n"
     ]
    }
   ],
   "source": [
    "for i in range(100000):   \n",
    "    \n",
    "    #minibatch\n",
    "    ix = torch.randint(0, Xtr.shape[0], (100,))\n",
    "\n",
    "    # forward pass    \n",
    "    emb = C[Xtr[ix]]\n",
    "    \n",
    "    h = torch.tanh(emb.view(-1, 12) @ W1 + b1) # (32, 100)\n",
    "    logits = h @ W2 + b2 # (32, 27)\n",
    "    loss = F.cross_entropy(logits, Ytr[ix]) # ALSO INDEXING INTO BATCH HERE\n",
    "\n",
    "    if i % 1000 == 0:\n",
    "        print(f'{i}: {loss.item()}')\n",
    "    #print(loss.item())\n",
    "    \n",
    "    # backward pass\n",
    "    for p in parameters:\n",
    "        p.grad = None\n",
    "    loss.backward()\n",
    "    \n",
    "    # update\n",
    "    lr = 0.01\n",
    "    for p in parameters:\n",
    "        p.data += -lr * p.grad\n",
    "        \n",
    "    # track stats\n",
    "    #lri.append(lre[i])\n",
    "    #stepi.append(i)\n",
    "    #lossi.append(loss.log10().item())\n",
    "\n",
    "\n",
    "#print(loss.item())"
   ]
  },
  {
   "cell_type": "code",
   "execution_count": null,
   "id": "fb551bfd-090f-4a5e-a12f-3cb5df95deb8",
   "metadata": {},
   "outputs": [],
   "source": [
    "emb = C[Xdev]    \n",
    "h = torch.tanh(emb.view(-1, 12) @ W1 + b1) # (32, 100)\n",
    "logits = h @ W2 + b2 # (32, 27)\n",
    "loss = F.cross_entropy(logits, Ydev)\n",
    "loss"
   ]
  },
  {
   "cell_type": "code",
   "execution_count": null,
   "id": "b11a14ea-2919-41d3-913b-7b12db913db7",
   "metadata": {},
   "outputs": [],
   "source": [
    "g = torch.Generator().manual_seed(2 ** 31 - 1 + 10)\n",
    "\n",
    "for _ in range(50):\n",
    "    \n",
    "    out = []\n",
    "    context = [0] * block_size\n",
    "    while True:\n",
    "        emb = C[torch.tensor([context])]\n",
    "        h = torch.tanh(emb.view(1, -1) @ W1 + b1)\n",
    "        logits = h @ W2 + b2\n",
    "        probs = F.softmax(logits, dim=1)\n",
    "        ix = torch.multinomial(probs, num_samples=1, generator=g).item()\n",
    "        context = context[1:] + [ix]\n",
    "        out.append(ix)\n",
    "        if ix == 0:\n",
    "            break\n",
    "\n",
    "    print(''.join(itos[i] for i in out))"
   ]
  },
  {
   "cell_type": "code",
   "execution_count": null,
   "id": "8d007cd5-9ad9-4169-96af-a07626e71c6b",
   "metadata": {},
   "outputs": [],
   "source": []
  }
 ],
 "metadata": {
  "kernelspec": {
   "display_name": "Python 3 (ipykernel)",
   "language": "python",
   "name": "python3"
  },
  "language_info": {
   "codemirror_mode": {
    "name": "ipython",
    "version": 3
   },
   "file_extension": ".py",
   "mimetype": "text/x-python",
   "name": "python",
   "nbconvert_exporter": "python",
   "pygments_lexer": "ipython3",
   "version": "3.11.5"
  }
 },
 "nbformat": 4,
 "nbformat_minor": 5
}
